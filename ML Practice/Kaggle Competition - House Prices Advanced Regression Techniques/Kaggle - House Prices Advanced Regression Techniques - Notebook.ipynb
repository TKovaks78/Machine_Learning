{
 "cells": [
  {
   "cell_type": "markdown",
   "id": "8f72d199-40b2-4712-8520-0ce7b96c8042",
   "metadata": {},
   "source": [
    "<font size = 6> <center> House Prices - Advanced Regression Techniques </center> </font>"
   ]
  },
  {
   "cell_type": "markdown",
   "id": "58ff2ade-4e23-48b8-911a-606ddc3be3ab",
   "metadata": {},
   "source": [
    "<img src=\"https://images.unsplash.com/photo-1516156008625-3a9d6067fab5?ixlib=rb-4.0.3&ixid=MnwxMjA3fDB8MHxwaG90by1wYWdlfHx8fGVufDB8fHx8&auto=format&fit=crop&w=870&q=80\">"
   ]
  },
  {
   "cell_type": "markdown",
   "id": "d3e64fd3-ef91-4958-9668-e77425ff4d6d",
   "metadata": {},
   "source": [
    "# Description"
   ]
  },
  {
   "cell_type": "markdown",
   "id": "d9310ef4-e96a-4cda-b92b-7f9748eeae3d",
   "metadata": {},
   "source": [
    "**Goal** </br>\n",
    "Predict the final price of each residential homes in Ames, Iowa  </br>\n",
    "\n",
    "**Metric**</br>\n",
    " Root-Mean-Squared-Error (RMSE) \n",
    " \n",
    "**Dataset Overview**\n",
    "Regression problem with 79 explanatory variables, the documentation is available in \"\\data\\data_description.txt\""
   ]
  },
  {
   "cell_type": "markdown",
   "id": "a0b90ad2-a499-428d-b619-2304ace8c6e8",
   "metadata": {},
   "source": [
    "# Setup"
   ]
  }
 ],
 "metadata": {
  "kernelspec": {
   "display_name": "Python 3 (ipykernel)",
   "language": "python",
   "name": "python3"
  },
  "language_info": {
   "codemirror_mode": {
    "name": "ipython",
    "version": 3
   },
   "file_extension": ".py",
   "mimetype": "text/x-python",
   "name": "python",
   "nbconvert_exporter": "python",
   "pygments_lexer": "ipython3",
   "version": "3.9.7"
  },
  "toc-autonumbering": true,
  "toc-showcode": true,
  "toc-showmarkdowntxt": true
 },
 "nbformat": 4,
 "nbformat_minor": 5
}
