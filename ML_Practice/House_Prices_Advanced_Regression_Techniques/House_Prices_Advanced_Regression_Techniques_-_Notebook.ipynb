{
 "cells": [
  {
   "cell_type": "markdown",
   "id": "8f72d199-40b2-4712-8520-0ce7b96c8042",
   "metadata": {},
   "source": [
    "<font size = 6> <center> House Prices - Advanced Regression Techniques </center> </font>"
   ]
  },
  {
   "cell_type": "markdown",
   "id": "58ff2ade-4e23-48b8-911a-606ddc3be3ab",
   "metadata": {},
   "source": [
    "<img src=\"https://images.unsplash.com/photo-1516156008625-3a9d6067fab5?ixlib=rb-4.0.3&ixid=MnwxMjA3fDB8MHxwaG90by1wYWdlfHx8fGVufDB8fHx8&auto=format&fit=crop&w=870&q=80\">"
   ]
  },
  {
   "cell_type": "markdown",
   "id": "d3e64fd3-ef91-4958-9668-e77425ff4d6d",
   "metadata": {},
   "source": [
    "# Description"
   ]
  },
  {
   "cell_type": "markdown",
   "id": "d9310ef4-e96a-4cda-b92b-7f9748eeae3d",
   "metadata": {},
   "source": [
    "**Goal** </br>\n",
    "Predict the final price of each residential homes in Ames, Iowa  </br>\n",
    "\n",
    "**Metric**</br>\n",
    " Root-Mean-Squared-Error (RMSE) \n",
    " \n",
    "**Dataset Overview**\n",
    "Regression problem with 79 explanatory variables, the documentation is available in \"\\data\\data_description.txt\""
   ]
  },
  {
   "cell_type": "markdown",
   "id": "a0b90ad2-a499-428d-b619-2304ace8c6e8",
   "metadata": {},
   "source": [
    "# Setup"
   ]
  },
  {
   "cell_type": "markdown",
   "id": "1b2b63c4-ff18-40f1-a577-fb43ee42130b",
   "metadata": {
    "tags": []
   },
   "source": [
    "## Google Colab Configuration"
   ]
  },
  {
   "cell_type": "code",
   "execution_count": null,
   "id": "dcdc426d-cab1-474a-a542-6c03a0471225",
   "metadata": {},
   "outputs": [],
   "source": [
    "#clone the repository to have access to all the data and files\n",
    "repository_name = \"Machine_Learning Pipeline_-_Complete Overview\"\n",
    "repository_url = 'https://github.com/TKovaks78/Machine-Learning-/tree/main/ML-Practice/ + repository_name"
   ]
  },
  {
   "cell_type": "code",
   "execution_count": null,
   "id": "c5f0f89a-2551-41d5-9796-8fea35abc9af",
   "metadata": {},
   "outputs": [],
   "source": [
    "! git clone $repository_url"
   ]
  },
  {
   "cell_type": "code",
   "execution_count": null,
   "id": "a29524e1-2c8b-4894-842a-575947ee8d08",
   "metadata": {},
   "outputs": [],
   "source": [
    "#Install Requirements\n",
    "! pip install -Uqqr $repository_name/requirements.txt"
   ]
  },
  {
   "cell_type": "markdown",
   "id": "f164e10e-ea09-4506-9b3e-31110e933028",
   "metadata": {},
   "source": [
    "⚠️ Restart the kernel after running these cells for the first time"
   ]
  },
  {
   "cell_type": "markdown",
   "id": "598f21d8-8ea2-483c-a4ff-56ae253edced",
   "metadata": {},
   "source": [
    "## Essential"
   ]
  },
  {
   "cell_type": "code",
   "execution_count": 11,
   "id": "90ecaca0-5f87-4e39-9775-a9edfe4a33c3",
   "metadata": {},
   "outputs": [],
   "source": [
    "# Importing required libraries for the project\n",
    "import numpy as np # for scientific computing\n",
    "import pandas as pd # for data anaysis\n",
    "import matplotlib # for visualization\n",
    "import seaborn as sns # for visualization\n",
    "import sklearn # ML Library\n",
    "import os\n",
    "\n",
    "# Scikit-Learn ≥0.20 is required\n",
    "assert sklearn.__version__ >= \"0.20\"\n",
    "\n",
    "# Python ≥3.5 is required\n",
    "import sys\n",
    "assert sys.version_info >= (3, 5)\n",
    "\n",
    "# Increase pandas display limit of columns to 500 \n",
    "pd.options.display.max_columns = 500 \n",
    "\n",
    "# To plot pretty figures\n",
    "%matplotlib inline\n",
    "import matplotlib as mpl\n",
    "import matplotlib.pyplot as plt\n",
    "mpl.rc('axes', labelsize=14)\n",
    "mpl.rc('xtick', labelsize=12)\n",
    "mpl.rc('ytick', labelsize=12)\n",
    "\n",
    "# No warning of any kind please!\n",
    "import warnings\n",
    "# will ignore any warnings\n",
    "warnings.filterwarnings(\"ignore\")"
   ]
  },
  {
   "cell_type": "markdown",
   "id": "88063e02-4505-41bf-840c-951e7b7ece2b",
   "metadata": {},
   "source": [
    "## Save Figures"
   ]
  },
  {
   "cell_type": "markdown",
   "id": "28e1574b-72de-4f5e-8c22-ff9bf5f03175",
   "metadata": {},
   "source": [
    "**Method 1**: makes it easy to save figure in a specific location in an organized way"
   ]
  },
  {
   "cell_type": "code",
   "execution_count": 12,
   "id": "37ff8d8b-a328-4a27-a76c-0f6ca49328f1",
   "metadata": {},
   "outputs": [],
   "source": [
    "import os\n",
    "\n",
    "# Where to save the figures\n",
    "PROJECT_ROOT_DIR = \".\"\n",
    "CHAPTER_ID = \"01_-_Getting Started\"\n",
    "IMAGES_PATH = os.path.join(PROJECT_ROOT_DIR, \"images\", CHAPTER_ID)\n",
    "os.makedirs(IMAGES_PATH, exist_ok=True)\n",
    "\n",
    "def save_fig(fig_id, tight_layout=True, fig_extension=\"png\", resolution=300):\n",
    "    path = os.path.join(IMAGES_PATH, fig_id + \".\" + fig_extension)\n",
    "    print(\"Saving figure\", fig_id)\n",
    "    if tight_layout:\n",
    "        plt.tight_layout()\n",
    "    plt.savefig(path, format=fig_extension, dpi=resolution)"
   ]
  },
  {
   "cell_type": "markdown",
   "id": "4e593401-0c0a-4c41-b366-e8fba8cf4cf2",
   "metadata": {},
   "source": [
    "To call the function just insert the code below in a plot cell (We will see example later)"
   ]
  },
  {
   "cell_type": "code",
   "execution_count": 3,
   "id": "53b9b1d6-e7ab-44f6-aced-91413cb7bb96",
   "metadata": {},
   "outputs": [],
   "source": [
    "#save_fig(\"input figure name\")"
   ]
  },
  {
   "cell_type": "markdown",
   "id": "2fbc0328-6b67-401c-afe1-2cce4d453ab6",
   "metadata": {},
   "source": [
    "**Method 2**: matplotlib integrated function (easier but more limitation, especially if you are working on github "
   ]
  },
  {
   "cell_type": "code",
   "execution_count": null,
   "id": "a01afba8-3f12-4fd7-8cc1-1efb7ed83e65",
   "metadata": {},
   "outputs": [],
   "source": [
    "#Insert this code in a plot cell\n",
    "#fig.savefig('path/to/save/image/to.png')"
   ]
  },
  {
   "cell_type": "markdown",
   "id": "b381d7ad-a9c7-4492-b016-bd16dd60150c",
   "metadata": {},
   "source": [
    "# Fetch the data"
   ]
  },
  {
   "cell_type": "markdown",
   "id": "7588b5d5-69c8-4b19-9844-af1af19dfa40",
   "metadata": {},
   "source": [
    "## Download the data then clone it in local"
   ]
  },
  {
   "cell_type": "code",
   "execution_count": 13,
   "id": "896c33da-6312-4b5f-962b-2186e7807b7c",
   "metadata": {},
   "outputs": [
    {
     "data": {
      "text/html": [
       "<div>\n",
       "<style scoped>\n",
       "    .dataframe tbody tr th:only-of-type {\n",
       "        vertical-align: middle;\n",
       "    }\n",
       "\n",
       "    .dataframe tbody tr th {\n",
       "        vertical-align: top;\n",
       "    }\n",
       "\n",
       "    .dataframe thead th {\n",
       "        text-align: right;\n",
       "    }\n",
       "</style>\n",
       "<table border=\"1\" class=\"dataframe\">\n",
       "  <thead>\n",
       "    <tr style=\"text-align: right;\">\n",
       "      <th></th>\n",
       "      <th>longitude</th>\n",
       "      <th>latitude</th>\n",
       "      <th>housing_median_age</th>\n",
       "      <th>total_rooms</th>\n",
       "      <th>total_bedrooms</th>\n",
       "      <th>population</th>\n",
       "      <th>households</th>\n",
       "      <th>median_income</th>\n",
       "      <th>median_house_value</th>\n",
       "      <th>ocean_proximity</th>\n",
       "    </tr>\n",
       "  </thead>\n",
       "  <tbody>\n",
       "    <tr>\n",
       "      <th>0</th>\n",
       "      <td>-122.23</td>\n",
       "      <td>37.88</td>\n",
       "      <td>41.0</td>\n",
       "      <td>880.0</td>\n",
       "      <td>129.0</td>\n",
       "      <td>322.0</td>\n",
       "      <td>126.0</td>\n",
       "      <td>8.3252</td>\n",
       "      <td>452600.0</td>\n",
       "      <td>NEAR BAY</td>\n",
       "    </tr>\n",
       "    <tr>\n",
       "      <th>1</th>\n",
       "      <td>-122.22</td>\n",
       "      <td>37.86</td>\n",
       "      <td>21.0</td>\n",
       "      <td>7099.0</td>\n",
       "      <td>1106.0</td>\n",
       "      <td>2401.0</td>\n",
       "      <td>1138.0</td>\n",
       "      <td>8.3014</td>\n",
       "      <td>358500.0</td>\n",
       "      <td>NEAR BAY</td>\n",
       "    </tr>\n",
       "    <tr>\n",
       "      <th>2</th>\n",
       "      <td>-122.24</td>\n",
       "      <td>37.85</td>\n",
       "      <td>52.0</td>\n",
       "      <td>1467.0</td>\n",
       "      <td>190.0</td>\n",
       "      <td>496.0</td>\n",
       "      <td>177.0</td>\n",
       "      <td>7.2574</td>\n",
       "      <td>352100.0</td>\n",
       "      <td>NEAR BAY</td>\n",
       "    </tr>\n",
       "    <tr>\n",
       "      <th>3</th>\n",
       "      <td>-122.25</td>\n",
       "      <td>37.85</td>\n",
       "      <td>52.0</td>\n",
       "      <td>1274.0</td>\n",
       "      <td>235.0</td>\n",
       "      <td>558.0</td>\n",
       "      <td>219.0</td>\n",
       "      <td>5.6431</td>\n",
       "      <td>341300.0</td>\n",
       "      <td>NEAR BAY</td>\n",
       "    </tr>\n",
       "    <tr>\n",
       "      <th>4</th>\n",
       "      <td>-122.25</td>\n",
       "      <td>37.85</td>\n",
       "      <td>52.0</td>\n",
       "      <td>1627.0</td>\n",
       "      <td>280.0</td>\n",
       "      <td>565.0</td>\n",
       "      <td>259.0</td>\n",
       "      <td>3.8462</td>\n",
       "      <td>342200.0</td>\n",
       "      <td>NEAR BAY</td>\n",
       "    </tr>\n",
       "    <tr>\n",
       "      <th>5</th>\n",
       "      <td>-122.25</td>\n",
       "      <td>37.85</td>\n",
       "      <td>52.0</td>\n",
       "      <td>919.0</td>\n",
       "      <td>213.0</td>\n",
       "      <td>413.0</td>\n",
       "      <td>193.0</td>\n",
       "      <td>4.0368</td>\n",
       "      <td>269700.0</td>\n",
       "      <td>NEAR BAY</td>\n",
       "    </tr>\n",
       "    <tr>\n",
       "      <th>6</th>\n",
       "      <td>-122.25</td>\n",
       "      <td>37.84</td>\n",
       "      <td>52.0</td>\n",
       "      <td>2535.0</td>\n",
       "      <td>489.0</td>\n",
       "      <td>1094.0</td>\n",
       "      <td>514.0</td>\n",
       "      <td>3.6591</td>\n",
       "      <td>299200.0</td>\n",
       "      <td>NEAR BAY</td>\n",
       "    </tr>\n",
       "    <tr>\n",
       "      <th>7</th>\n",
       "      <td>-122.25</td>\n",
       "      <td>37.84</td>\n",
       "      <td>52.0</td>\n",
       "      <td>3104.0</td>\n",
       "      <td>687.0</td>\n",
       "      <td>1157.0</td>\n",
       "      <td>647.0</td>\n",
       "      <td>3.1200</td>\n",
       "      <td>241400.0</td>\n",
       "      <td>NEAR BAY</td>\n",
       "    </tr>\n",
       "    <tr>\n",
       "      <th>8</th>\n",
       "      <td>-122.26</td>\n",
       "      <td>37.84</td>\n",
       "      <td>42.0</td>\n",
       "      <td>2555.0</td>\n",
       "      <td>665.0</td>\n",
       "      <td>1206.0</td>\n",
       "      <td>595.0</td>\n",
       "      <td>2.0804</td>\n",
       "      <td>226700.0</td>\n",
       "      <td>NEAR BAY</td>\n",
       "    </tr>\n",
       "    <tr>\n",
       "      <th>9</th>\n",
       "      <td>-122.25</td>\n",
       "      <td>37.84</td>\n",
       "      <td>52.0</td>\n",
       "      <td>3549.0</td>\n",
       "      <td>707.0</td>\n",
       "      <td>1551.0</td>\n",
       "      <td>714.0</td>\n",
       "      <td>3.6912</td>\n",
       "      <td>261100.0</td>\n",
       "      <td>NEAR BAY</td>\n",
       "    </tr>\n",
       "  </tbody>\n",
       "</table>\n",
       "</div>"
      ],
      "text/plain": [
       "   longitude  latitude  housing_median_age  total_rooms  total_bedrooms  \\\n",
       "0    -122.23     37.88                41.0        880.0           129.0   \n",
       "1    -122.22     37.86                21.0       7099.0          1106.0   \n",
       "2    -122.24     37.85                52.0       1467.0           190.0   \n",
       "3    -122.25     37.85                52.0       1274.0           235.0   \n",
       "4    -122.25     37.85                52.0       1627.0           280.0   \n",
       "5    -122.25     37.85                52.0        919.0           213.0   \n",
       "6    -122.25     37.84                52.0       2535.0           489.0   \n",
       "7    -122.25     37.84                52.0       3104.0           687.0   \n",
       "8    -122.26     37.84                42.0       2555.0           665.0   \n",
       "9    -122.25     37.84                52.0       3549.0           707.0   \n",
       "\n",
       "   population  households  median_income  median_house_value ocean_proximity  \n",
       "0       322.0       126.0         8.3252            452600.0        NEAR BAY  \n",
       "1      2401.0      1138.0         8.3014            358500.0        NEAR BAY  \n",
       "2       496.0       177.0         7.2574            352100.0        NEAR BAY  \n",
       "3       558.0       219.0         5.6431            341300.0        NEAR BAY  \n",
       "4       565.0       259.0         3.8462            342200.0        NEAR BAY  \n",
       "5       413.0       193.0         4.0368            269700.0        NEAR BAY  \n",
       "6      1094.0       514.0         3.6591            299200.0        NEAR BAY  \n",
       "7      1157.0       647.0         3.1200            241400.0        NEAR BAY  \n",
       "8      1206.0       595.0         2.0804            226700.0        NEAR BAY  \n",
       "9      1551.0       714.0         3.6912            261100.0        NEAR BAY  "
      ]
     },
     "execution_count": 13,
     "metadata": {},
     "output_type": "execute_result"
    }
   ],
   "source": [
    "import os\n",
    "import tarfile\n",
    "import urllib.request\n",
    "\n",
    "#Define path from where you download the data\n",
    "DOWNLOAD_ROOT = \"https://github.com/TKovaks78/Machine_Learning-Pipeline_-_Complete_Overview/blob/main/\"\n",
    "PATH = os.path.join(\"datasets\", \"housing\")\n",
    "URL = DOWNLOAD_ROOT + \"datasets/housing/housing.tgz\"\n",
    "\n",
    "#Function to fetch the data from the url\n",
    "def fetch_data(url= URL, path= PATH):\n",
    "    if not os.path.isdir(path):\n",
    "        os.makedirs(path)\n",
    "    tgz_path = os.path.join(path, \"housing.tgz\")\n",
    "    urllib.request.urlretrieve(url, tgz_path)\n",
    "    housing_tgz = tarfile.open(tgz_path)\n",
    "    housing_tgz.extractall(path=path)\n",
    "    housing_tgz.close()\n",
    "    \n",
    "#Call the function\n",
    "fetch_data()\n",
    "\n",
    "#Function to load the data\n",
    "def load_data(path=PATH):\n",
    "    csv_path = os.path.join(path, \"housing.csv\")\n",
    "    return pd.read_csv(csv_path)\n",
    "\n",
    "#Call the function\n",
    "df = load_data()\n",
    "\n",
    "#Read the data\n",
    "df.head(10)"
   ]
  }
 ],
 "metadata": {
  "kernelspec": {
   "display_name": "Python 3 (ipykernel)",
   "language": "python",
   "name": "python3"
  },
  "language_info": {
   "codemirror_mode": {
    "name": "ipython",
    "version": 3
   },
   "file_extension": ".py",
   "mimetype": "text/x-python",
   "name": "python",
   "nbconvert_exporter": "python",
   "pygments_lexer": "ipython3",
   "version": "3.9.7"
  },
  "toc-autonumbering": true,
  "toc-showcode": true,
  "toc-showmarkdowntxt": true
 },
 "nbformat": 4,
 "nbformat_minor": 5
}
