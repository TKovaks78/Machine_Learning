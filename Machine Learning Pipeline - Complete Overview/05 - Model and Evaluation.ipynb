{
 "cells": [
  {
   "cell_type": "markdown",
   "id": "f29e55c9",
   "metadata": {},
   "source": [
    "<font size = 22> <center> 05 - Model and Evaluation </center> </font>"
   ]
  },
  {
   "cell_type": "markdown",
   "id": "12cacafa",
   "metadata": {},
   "source": [
    "<img src=\"https://miro.medium.com/max/1400/1*jcXeBFzKpV-GZ0auYf1n0A.png\">"
   ]
  },
  {
   "cell_type": "markdown",
   "id": "b5360a30",
   "metadata": {
    "tags": [
     "{toggle}"
    ]
   },
   "source": [
    "# Getting Started"
   ]
  },
  {
   "cell_type": "markdown",
   "id": "dc95299a",
   "metadata": {
    "tags": [
     "{toggle}"
    ]
   },
   "source": [
    "<font size=4> Google Colab Configuration"
   ]
  },
  {
   "cell_type": "code",
   "execution_count": 18,
   "id": "652a0c9f",
   "metadata": {
    "collapsed": true,
    "jupyter": {
     "outputs_hidden": true
    },
    "tags": [
     "hide-input"
    ]
   },
   "outputs": [],
   "source": [
    "#👀clone the repository to have access to all the data and files\n",
    "repository_name = \"Machine_Learning Pipeline_-_Complete Overview\"\n",
    "repository_url = 'https://github.com/TKovaks78/' + repository_name"
   ]
  },
  {
   "cell_type": "code",
   "execution_count": null,
   "id": "31944f15",
   "metadata": {
    "collapsed": true,
    "jupyter": {
     "outputs_hidden": true
    },
    "tags": [
     "hide-input"
    ]
   },
   "outputs": [],
   "source": [
    "! git clone $repository_url"
   ]
  },
  {
   "cell_type": "code",
   "execution_count": null,
   "id": "743c2267",
   "metadata": {
    "collapsed": true,
    "jupyter": {
     "outputs_hidden": true
    },
    "tags": [
     "hide-input"
    ]
   },
   "outputs": [],
   "source": [
    "#Install Requirements\n",
    "! pip install -Uqqr $repository_name/requirements.txt"
   ]
  },
  {
   "cell_type": "markdown",
   "id": "f1ad2349",
   "metadata": {
    "tags": [
     "{toggle}"
    ]
   },
   "source": [
    "⚠️ Restart the kernel after running these cells for the first time"
   ]
  },
  {
   "cell_type": "markdown",
   "id": "8432fbd9",
   "metadata": {
    "tags": [
     "{toggle}"
    ]
   },
   "source": [
    "<font size=4> Essential"
   ]
  },
  {
   "cell_type": "code",
   "execution_count": 2,
   "id": "8293b910",
   "metadata": {
    "tags": [
     "hide-input"
    ]
   },
   "outputs": [],
   "source": [
    "# Importing required libraries for the project\n",
    "import numpy as np # for scientific computing\n",
    "import pandas as pd # for data anaysis\n",
    "import matplotlib # for visualization\n",
    "import seaborn as sns # for visualization\n",
    "import sklearn # ML Library\n",
    "import os\n",
    "\n",
    "# Scikit-Learn ≥0.20 is required\n",
    "assert sklearn.__version__ >= \"0.20\"\n",
    "\n",
    "# Python ≥3.5 is required\n",
    "import sys\n",
    "assert sys.version_info >= (3, 5)\n",
    "\n",
    "# Increase pandas display limit of columns to 500 \n",
    "pd.options.display.max_columns = 500 \n",
    "\n",
    "# To plot pretty figures\n",
    "%matplotlib inline\n",
    "import matplotlib as mpl\n",
    "import matplotlib.pyplot as plt\n",
    "mpl.rc('axes', labelsize=14)\n",
    "mpl.rc('xtick', labelsize=12)\n",
    "mpl.rc('ytick', labelsize=12)\n",
    "\n",
    "# No warning of any kind please!\n",
    "import warnings\n",
    "# will ignore any warnings\n",
    "warnings.filterwarnings(\"ignore\")"
   ]
  },
  {
   "cell_type": "markdown",
   "id": "4a25dabc",
   "metadata": {},
   "source": [
    "<font size=4> Get the data"
   ]
  },
  {
   "cell_type": "markdown",
   "id": "42882fbd",
   "metadata": {},
   "source": [
    "*We will use 4 data sets:*"
   ]
  },
  {
   "cell_type": "code",
   "execution_count": 3,
   "id": "8ed4542a",
   "metadata": {
    "tags": [
     "hide-input"
    ]
   },
   "outputs": [],
   "source": [
    "import os\n",
    "import tarfile\n",
    "import urllib.request\n",
    "\n",
    "#👀Define path from where you download the data\n",
    "\n",
    "PATH1 = os.path.join(\"datasets\", \"housing\")\n",
    "DATA1 = \"housing.csv\"\n",
    "\n",
    "#Function to load the data\n",
    "def load_data(path, data):\n",
    "    csv_path = os.path.join(path, data)\n",
    "    return pd.read_csv(csv_path)"
   ]
  },
  {
   "cell_type": "markdown",
   "id": "03c4c77b",
   "metadata": {},
   "source": [
    "- Data Frame Name: `df_rg`: \n",
    "- Dataset Name: housing data set\n",
    "- Prediction Type: Regression\n",
    "- Predictors Type: numerical + 1 categorical"
   ]
  },
  {
   "cell_type": "code",
   "execution_count": 4,
   "id": "3db1e9a5",
   "metadata": {
    "scrolled": true,
    "tags": [
     "hide-input"
    ]
   },
   "outputs": [
    {
     "data": {
      "text/html": [
       "<div>\n",
       "<style scoped>\n",
       "    .dataframe tbody tr th:only-of-type {\n",
       "        vertical-align: middle;\n",
       "    }\n",
       "\n",
       "    .dataframe tbody tr th {\n",
       "        vertical-align: top;\n",
       "    }\n",
       "\n",
       "    .dataframe thead th {\n",
       "        text-align: right;\n",
       "    }\n",
       "</style>\n",
       "<table border=\"1\" class=\"dataframe\">\n",
       "  <thead>\n",
       "    <tr style=\"text-align: right;\">\n",
       "      <th></th>\n",
       "      <th>longitude</th>\n",
       "      <th>latitude</th>\n",
       "      <th>housing_median_age</th>\n",
       "      <th>total_rooms</th>\n",
       "      <th>total_bedrooms</th>\n",
       "      <th>population</th>\n",
       "      <th>households</th>\n",
       "      <th>median_income</th>\n",
       "      <th>median_house_value</th>\n",
       "      <th>ocean_proximity</th>\n",
       "    </tr>\n",
       "  </thead>\n",
       "  <tbody>\n",
       "    <tr>\n",
       "      <th>0</th>\n",
       "      <td>-122.23</td>\n",
       "      <td>37.88</td>\n",
       "      <td>41.0</td>\n",
       "      <td>880.0</td>\n",
       "      <td>129.0</td>\n",
       "      <td>322.0</td>\n",
       "      <td>126.0</td>\n",
       "      <td>8.3252</td>\n",
       "      <td>452600.0</td>\n",
       "      <td>NEAR BAY</td>\n",
       "    </tr>\n",
       "    <tr>\n",
       "      <th>1</th>\n",
       "      <td>-122.22</td>\n",
       "      <td>37.86</td>\n",
       "      <td>21.0</td>\n",
       "      <td>7099.0</td>\n",
       "      <td>1106.0</td>\n",
       "      <td>2401.0</td>\n",
       "      <td>1138.0</td>\n",
       "      <td>8.3014</td>\n",
       "      <td>358500.0</td>\n",
       "      <td>NEAR BAY</td>\n",
       "    </tr>\n",
       "    <tr>\n",
       "      <th>2</th>\n",
       "      <td>-122.24</td>\n",
       "      <td>37.85</td>\n",
       "      <td>52.0</td>\n",
       "      <td>1467.0</td>\n",
       "      <td>190.0</td>\n",
       "      <td>496.0</td>\n",
       "      <td>177.0</td>\n",
       "      <td>7.2574</td>\n",
       "      <td>352100.0</td>\n",
       "      <td>NEAR BAY</td>\n",
       "    </tr>\n",
       "    <tr>\n",
       "      <th>3</th>\n",
       "      <td>-122.25</td>\n",
       "      <td>37.85</td>\n",
       "      <td>52.0</td>\n",
       "      <td>1274.0</td>\n",
       "      <td>235.0</td>\n",
       "      <td>558.0</td>\n",
       "      <td>219.0</td>\n",
       "      <td>5.6431</td>\n",
       "      <td>341300.0</td>\n",
       "      <td>NEAR BAY</td>\n",
       "    </tr>\n",
       "    <tr>\n",
       "      <th>4</th>\n",
       "      <td>-122.25</td>\n",
       "      <td>37.85</td>\n",
       "      <td>52.0</td>\n",
       "      <td>1627.0</td>\n",
       "      <td>280.0</td>\n",
       "      <td>565.0</td>\n",
       "      <td>259.0</td>\n",
       "      <td>3.8462</td>\n",
       "      <td>342200.0</td>\n",
       "      <td>NEAR BAY</td>\n",
       "    </tr>\n",
       "    <tr>\n",
       "      <th>5</th>\n",
       "      <td>-122.25</td>\n",
       "      <td>37.85</td>\n",
       "      <td>52.0</td>\n",
       "      <td>919.0</td>\n",
       "      <td>213.0</td>\n",
       "      <td>413.0</td>\n",
       "      <td>193.0</td>\n",
       "      <td>4.0368</td>\n",
       "      <td>269700.0</td>\n",
       "      <td>NEAR BAY</td>\n",
       "    </tr>\n",
       "    <tr>\n",
       "      <th>6</th>\n",
       "      <td>-122.25</td>\n",
       "      <td>37.84</td>\n",
       "      <td>52.0</td>\n",
       "      <td>2535.0</td>\n",
       "      <td>489.0</td>\n",
       "      <td>1094.0</td>\n",
       "      <td>514.0</td>\n",
       "      <td>3.6591</td>\n",
       "      <td>299200.0</td>\n",
       "      <td>NEAR BAY</td>\n",
       "    </tr>\n",
       "    <tr>\n",
       "      <th>7</th>\n",
       "      <td>-122.25</td>\n",
       "      <td>37.84</td>\n",
       "      <td>52.0</td>\n",
       "      <td>3104.0</td>\n",
       "      <td>687.0</td>\n",
       "      <td>1157.0</td>\n",
       "      <td>647.0</td>\n",
       "      <td>3.1200</td>\n",
       "      <td>241400.0</td>\n",
       "      <td>NEAR BAY</td>\n",
       "    </tr>\n",
       "    <tr>\n",
       "      <th>8</th>\n",
       "      <td>-122.26</td>\n",
       "      <td>37.84</td>\n",
       "      <td>42.0</td>\n",
       "      <td>2555.0</td>\n",
       "      <td>665.0</td>\n",
       "      <td>1206.0</td>\n",
       "      <td>595.0</td>\n",
       "      <td>2.0804</td>\n",
       "      <td>226700.0</td>\n",
       "      <td>NEAR BAY</td>\n",
       "    </tr>\n",
       "    <tr>\n",
       "      <th>9</th>\n",
       "      <td>-122.25</td>\n",
       "      <td>37.84</td>\n",
       "      <td>52.0</td>\n",
       "      <td>3549.0</td>\n",
       "      <td>707.0</td>\n",
       "      <td>1551.0</td>\n",
       "      <td>714.0</td>\n",
       "      <td>3.6912</td>\n",
       "      <td>261100.0</td>\n",
       "      <td>NEAR BAY</td>\n",
       "    </tr>\n",
       "  </tbody>\n",
       "</table>\n",
       "</div>"
      ],
      "text/plain": [
       "   longitude  latitude  housing_median_age  total_rooms  total_bedrooms  \\\n",
       "0    -122.23     37.88                41.0        880.0           129.0   \n",
       "1    -122.22     37.86                21.0       7099.0          1106.0   \n",
       "2    -122.24     37.85                52.0       1467.0           190.0   \n",
       "3    -122.25     37.85                52.0       1274.0           235.0   \n",
       "4    -122.25     37.85                52.0       1627.0           280.0   \n",
       "5    -122.25     37.85                52.0        919.0           213.0   \n",
       "6    -122.25     37.84                52.0       2535.0           489.0   \n",
       "7    -122.25     37.84                52.0       3104.0           687.0   \n",
       "8    -122.26     37.84                42.0       2555.0           665.0   \n",
       "9    -122.25     37.84                52.0       3549.0           707.0   \n",
       "\n",
       "   population  households  median_income  median_house_value ocean_proximity  \n",
       "0       322.0       126.0         8.3252            452600.0        NEAR BAY  \n",
       "1      2401.0      1138.0         8.3014            358500.0        NEAR BAY  \n",
       "2       496.0       177.0         7.2574            352100.0        NEAR BAY  \n",
       "3       558.0       219.0         5.6431            341300.0        NEAR BAY  \n",
       "4       565.0       259.0         3.8462            342200.0        NEAR BAY  \n",
       "5       413.0       193.0         4.0368            269700.0        NEAR BAY  \n",
       "6      1094.0       514.0         3.6591            299200.0        NEAR BAY  \n",
       "7      1157.0       647.0         3.1200            241400.0        NEAR BAY  \n",
       "8      1206.0       595.0         2.0804            226700.0        NEAR BAY  \n",
       "9      1551.0       714.0         3.6912            261100.0        NEAR BAY  "
      ]
     },
     "execution_count": 4,
     "metadata": {},
     "output_type": "execute_result"
    }
   ],
   "source": [
    "#Load df_rg\n",
    "\n",
    "#Call the function\n",
    "data1 = load_data(PATH1, DATA1)\n",
    "\n",
    "#create a copy\n",
    "df_rg = data1.copy()\n",
    "\n",
    "#Read the data\n",
    "df_rg.head(10)"
   ]
  },
  {
   "cell_type": "markdown",
   "id": "081dcdd9",
   "metadata": {},
   "source": [
    "# Put everything together with pipeline"
   ]
  },
  {
   "cell_type": "markdown",
   "id": "b0f5fc65",
   "metadata": {},
   "source": [
    "2 important notions while building a pipeline:\n",
    "- Transformers for which you use `fit_transform`\n",
    "- Predictors for which you use `fit_predict`"
   ]
  },
  {
   "cell_type": "code",
   "execution_count": 9,
   "id": "78ccbbba",
   "metadata": {
    "scrolled": true
   },
   "outputs": [
    {
     "data": {
      "text/html": [
       "<div>\n",
       "<style scoped>\n",
       "    .dataframe tbody tr th:only-of-type {\n",
       "        vertical-align: middle;\n",
       "    }\n",
       "\n",
       "    .dataframe tbody tr th {\n",
       "        vertical-align: top;\n",
       "    }\n",
       "\n",
       "    .dataframe thead th {\n",
       "        text-align: right;\n",
       "    }\n",
       "</style>\n",
       "<table border=\"1\" class=\"dataframe\">\n",
       "  <thead>\n",
       "    <tr style=\"text-align: right;\">\n",
       "      <th></th>\n",
       "      <th>longitude</th>\n",
       "      <th>latitude</th>\n",
       "      <th>housing_median_age</th>\n",
       "      <th>total_rooms</th>\n",
       "      <th>total_bedrooms</th>\n",
       "      <th>population</th>\n",
       "      <th>households</th>\n",
       "      <th>median_income</th>\n",
       "      <th>ocean_proximity</th>\n",
       "    </tr>\n",
       "  </thead>\n",
       "  <tbody>\n",
       "    <tr>\n",
       "      <th>14196</th>\n",
       "      <td>-117.03</td>\n",
       "      <td>32.71</td>\n",
       "      <td>33.0</td>\n",
       "      <td>3126.0</td>\n",
       "      <td>627.0</td>\n",
       "      <td>2300.0</td>\n",
       "      <td>623.0</td>\n",
       "      <td>3.2596</td>\n",
       "      <td>NEAR OCEAN</td>\n",
       "    </tr>\n",
       "    <tr>\n",
       "      <th>8267</th>\n",
       "      <td>-118.16</td>\n",
       "      <td>33.77</td>\n",
       "      <td>49.0</td>\n",
       "      <td>3382.0</td>\n",
       "      <td>787.0</td>\n",
       "      <td>1314.0</td>\n",
       "      <td>756.0</td>\n",
       "      <td>3.8125</td>\n",
       "      <td>NEAR OCEAN</td>\n",
       "    </tr>\n",
       "  </tbody>\n",
       "</table>\n",
       "</div>"
      ],
      "text/plain": [
       "       longitude  latitude  housing_median_age  total_rooms  total_bedrooms  \\\n",
       "14196    -117.03     32.71                33.0       3126.0           627.0   \n",
       "8267     -118.16     33.77                49.0       3382.0           787.0   \n",
       "\n",
       "       population  households  median_income ocean_proximity  \n",
       "14196      2300.0       623.0         3.2596      NEAR OCEAN  \n",
       "8267       1314.0       756.0         3.8125      NEAR OCEAN  "
      ]
     },
     "execution_count": 9,
     "metadata": {},
     "output_type": "execute_result"
    }
   ],
   "source": [
    "#Prepare variables for preprocessing\n",
    "df_rg = data1.copy()\n",
    "X = df_rg.drop(\"median_house_value\", axis=1)\n",
    "y = df_rg['median_house_value']\n",
    "\n",
    "#Split the dataset\n",
    "from sklearn.model_selection import train_test_split\n",
    "\n",
    "X_train, X_test, y_train, y_test = train_test_split(X, y, test_size=0.2, random_state=42)\n",
    "X_train.head(2)"
   ]
  },
  {
   "cell_type": "markdown",
   "id": "7ebf1756",
   "metadata": {},
   "source": [
    "## Column Transformer Pipeline"
   ]
  },
  {
   "cell_type": "markdown",
   "id": "94b805ab",
   "metadata": {},
   "source": [
    "Preprocessing Pipeline:\n",
    "- Impute total_bedrooms\n",
    "- StandardScaler for latitude and longitude\n",
    "- MinMaxScaler for other numeric variables (except target\n",
    "- OHE ocean_proximity"
   ]
  },
  {
   "cell_type": "markdown",
   "id": "9e6a3ae2",
   "metadata": {},
   "source": [
    "### With class"
   ]
  },
  {
   "cell_type": "markdown",
   "id": "62a84221",
   "metadata": {},
   "source": [
    "⚠️ <u>Note:</u> class are useful **only if** you are planning to repeat the process multiple time"
   ]
  },
  {
   "cell_type": "code",
   "execution_count": 35,
   "id": "5322626e",
   "metadata": {},
   "outputs": [],
   "source": [
    "from sklearn.base import BaseEstimator, TransformerMixin #TransformerMixin means that if we define fit and transform it will automatically do fit_transform\n",
    "from sklearn.preprocessing import OneHotEncoder, StandardScaler, MinMaxScaler\n",
    "from sklearn.impute import SimpleImputer\n",
    "from sklearn.base import RegressorMixin\n",
    "from sklearn.linear_model import LinearRegression\n",
    "\n",
    "class impute_total_bedrooms(BaseEstimator,TransformerMixin):\n",
    "    def fit(self, X_train, y=None): #self is used to access variables that belong to a class\n",
    "        return self\n",
    "    def transform(self, X_train):\n",
    "        imputer = SimpleImputer(strategy=\"mean\")\n",
    "        X_train[\"total_bedrooms\"]=imputer.fit_transform(X_train[[\"total_bedrooms\"]]) #double bracket = .values if only one variable\n",
    "        return X_train\n",
    "\n",
    "class OHE (BaseEstimator,TransformerMixin):\n",
    "    def __init__(self, **kwargs):\n",
    "        self.feature_names = ['NEAR BAY', '<1H OCEAN', 'INLAND', 'NEAR OCEAN', 'ISLAND']\n",
    "\n",
    "    def fit(self, X_train, y=None):\n",
    "        return self\n",
    "\n",
    "    def transform(self, X_train):\n",
    "        OHE = pd.get_dummies(X_train[\"ocean_proximity\"])\n",
    "        X_train = X_train.join(OHE)\n",
    "        return X_train.drop(columns = \"ocean_proximity\")\n",
    "\n",
    "class features_scaler (BaseEstimator,TransformerMixin):\n",
    "    def fit(self, X_train, y=None): #self is used to access variables that belong to a class\n",
    "        return self\n",
    "    def transform(self, X_train):\n",
    "        #MinMax Scaler\n",
    "        min_scaler = MinMaxScaler()\n",
    "        X_train[[\"housing_median_age\",\"total_rooms\",\"total_bedrooms\",\"population\",\"households\",\"median_income\"]]= min_scaler.fit_transform(X_train[[\"housing_median_age\",\"total_rooms\",\"total_bedrooms\",\"population\",\"households\",\"median_income\"]].values)\n",
    "        \n",
    "        #Standard Scaler\n",
    "        sd_scaler = StandardScaler()\n",
    "        X_train[[\"longitude\",\"latitude\"]] = sd_scaler.fit_transform(X_train[[\"longitude\",\"latitude\"]].values)\n",
    "        return X_train"
   ]
  },
  {
   "cell_type": "markdown",
   "id": "2e96c82e",
   "metadata": {},
   "source": [
    "Now let's put everything in a pipeline"
   ]
  },
  {
   "cell_type": "code",
   "execution_count": 42,
   "id": "d5153815",
   "metadata": {},
   "outputs": [
    {
     "data": {
      "text/html": [
       "<div>\n",
       "<style scoped>\n",
       "    .dataframe tbody tr th:only-of-type {\n",
       "        vertical-align: middle;\n",
       "    }\n",
       "\n",
       "    .dataframe tbody tr th {\n",
       "        vertical-align: top;\n",
       "    }\n",
       "\n",
       "    .dataframe thead th {\n",
       "        text-align: right;\n",
       "    }\n",
       "</style>\n",
       "<table border=\"1\" class=\"dataframe\">\n",
       "  <thead>\n",
       "    <tr style=\"text-align: right;\">\n",
       "      <th></th>\n",
       "      <th>longitude</th>\n",
       "      <th>latitude</th>\n",
       "      <th>housing_median_age</th>\n",
       "      <th>total_rooms</th>\n",
       "      <th>total_bedrooms</th>\n",
       "      <th>population</th>\n",
       "      <th>households</th>\n",
       "      <th>median_income</th>\n",
       "      <th>&lt;1H OCEAN</th>\n",
       "      <th>INLAND</th>\n",
       "      <th>ISLAND</th>\n",
       "      <th>NEAR BAY</th>\n",
       "      <th>NEAR OCEAN</th>\n",
       "    </tr>\n",
       "  </thead>\n",
       "  <tbody>\n",
       "    <tr>\n",
       "      <th>14196</th>\n",
       "      <td>1.272587</td>\n",
       "      <td>-1.372811</td>\n",
       "      <td>0.627451</td>\n",
       "      <td>0.079455</td>\n",
       "      <td>0.097145</td>\n",
       "      <td>0.064380</td>\n",
       "      <td>0.102286</td>\n",
       "      <td>0.190322</td>\n",
       "      <td>0</td>\n",
       "      <td>0</td>\n",
       "      <td>0</td>\n",
       "      <td>0</td>\n",
       "      <td>1</td>\n",
       "    </tr>\n",
       "    <tr>\n",
       "      <th>8267</th>\n",
       "      <td>0.709162</td>\n",
       "      <td>-0.876696</td>\n",
       "      <td>0.941176</td>\n",
       "      <td>0.085966</td>\n",
       "      <td>0.121974</td>\n",
       "      <td>0.036744</td>\n",
       "      <td>0.124157</td>\n",
       "      <td>0.228452</td>\n",
       "      <td>0</td>\n",
       "      <td>0</td>\n",
       "      <td>0</td>\n",
       "      <td>0</td>\n",
       "      <td>1</td>\n",
       "    </tr>\n",
       "    <tr>\n",
       "      <th>17445</th>\n",
       "      <td>-0.447603</td>\n",
       "      <td>-0.460146</td>\n",
       "      <td>0.058824</td>\n",
       "      <td>0.048197</td>\n",
       "      <td>0.051210</td>\n",
       "      <td>0.025561</td>\n",
       "      <td>0.055090</td>\n",
       "      <td>0.252162</td>\n",
       "      <td>0</td>\n",
       "      <td>0</td>\n",
       "      <td>0</td>\n",
       "      <td>0</td>\n",
       "      <td>1</td>\n",
       "    </tr>\n",
       "    <tr>\n",
       "      <th>14265</th>\n",
       "      <td>1.232698</td>\n",
       "      <td>-1.382172</td>\n",
       "      <td>0.686275</td>\n",
       "      <td>0.036090</td>\n",
       "      <td>0.056797</td>\n",
       "      <td>0.039659</td>\n",
       "      <td>0.058214</td>\n",
       "      <td>0.099488</td>\n",
       "      <td>0</td>\n",
       "      <td>0</td>\n",
       "      <td>0</td>\n",
       "      <td>0</td>\n",
       "      <td>1</td>\n",
       "    </tr>\n",
       "    <tr>\n",
       "      <th>2271</th>\n",
       "      <td>-0.108551</td>\n",
       "      <td>0.532084</td>\n",
       "      <td>0.823529</td>\n",
       "      <td>0.060532</td>\n",
       "      <td>0.066729</td>\n",
       "      <td>0.024412</td>\n",
       "      <td>0.062325</td>\n",
       "      <td>0.210638</td>\n",
       "      <td>0</td>\n",
       "      <td>1</td>\n",
       "      <td>0</td>\n",
       "      <td>0</td>\n",
       "      <td>0</td>\n",
       "    </tr>\n",
       "  </tbody>\n",
       "</table>\n",
       "</div>"
      ],
      "text/plain": [
       "       longitude  latitude  housing_median_age  total_rooms  total_bedrooms  \\\n",
       "14196   1.272587 -1.372811            0.627451     0.079455        0.097145   \n",
       "8267    0.709162 -0.876696            0.941176     0.085966        0.121974   \n",
       "17445  -0.447603 -0.460146            0.058824     0.048197        0.051210   \n",
       "14265   1.232698 -1.382172            0.686275     0.036090        0.056797   \n",
       "2271   -0.108551  0.532084            0.823529     0.060532        0.066729   \n",
       "\n",
       "       population  households  median_income  <1H OCEAN  INLAND  ISLAND  \\\n",
       "14196    0.064380    0.102286       0.190322          0       0       0   \n",
       "8267     0.036744    0.124157       0.228452          0       0       0   \n",
       "17445    0.025561    0.055090       0.252162          0       0       0   \n",
       "14265    0.039659    0.058214       0.099488          0       0       0   \n",
       "2271     0.024412    0.062325       0.210638          0       1       0   \n",
       "\n",
       "       NEAR BAY  NEAR OCEAN  \n",
       "14196         0           1  \n",
       "8267          0           1  \n",
       "17445         0           1  \n",
       "14265         0           1  \n",
       "2271          0           0  "
      ]
     },
     "execution_count": 42,
     "metadata": {},
     "output_type": "execute_result"
    }
   ],
   "source": [
    "from sklearn.pipeline import Pipeline\n",
    "from sklearn.compose import ColumnTransformer\n",
    "\n",
    "column_transformer = Pipeline([\n",
    "    (\"imputer\", impute_total_bedrooms()), \n",
    "    (\"OHE\", OHE()),\n",
    "    (\"scaler\", features_scaler())\n",
    "    ])\n",
    "\n",
    "X_train_transformed = column_transformer.fit_transform(X_train)\n",
    "X_train_transformed.head(5)"
   ]
  },
  {
   "cell_type": "markdown",
   "id": "fced366e",
   "metadata": {},
   "source": [
    "<u>Note:</u> instead of using the `Pipeline` module you can use `make_pipeline`. The only difference is that you can't and won't have to name any estimator (e.g example below)"
   ]
  },
  {
   "cell_type": "code",
   "execution_count": 12,
   "id": "dbe7c9f9",
   "metadata": {},
   "outputs": [
    {
     "data": {
      "text/html": [
       "<div>\n",
       "<style scoped>\n",
       "    .dataframe tbody tr th:only-of-type {\n",
       "        vertical-align: middle;\n",
       "    }\n",
       "\n",
       "    .dataframe tbody tr th {\n",
       "        vertical-align: top;\n",
       "    }\n",
       "\n",
       "    .dataframe thead th {\n",
       "        text-align: right;\n",
       "    }\n",
       "</style>\n",
       "<table border=\"1\" class=\"dataframe\">\n",
       "  <thead>\n",
       "    <tr style=\"text-align: right;\">\n",
       "      <th></th>\n",
       "      <th>longitude</th>\n",
       "      <th>latitude</th>\n",
       "      <th>housing_median_age</th>\n",
       "      <th>total_rooms</th>\n",
       "      <th>total_bedrooms</th>\n",
       "      <th>population</th>\n",
       "      <th>households</th>\n",
       "      <th>median_income</th>\n",
       "      <th>&lt;1H OCEAN</th>\n",
       "      <th>INLAND</th>\n",
       "      <th>ISLAND</th>\n",
       "      <th>NEAR BAY</th>\n",
       "      <th>NEAR OCEAN</th>\n",
       "    </tr>\n",
       "  </thead>\n",
       "  <tbody>\n",
       "    <tr>\n",
       "      <th>14196</th>\n",
       "      <td>1.272587</td>\n",
       "      <td>-1.372811</td>\n",
       "      <td>0.627451</td>\n",
       "      <td>0.079455</td>\n",
       "      <td>0.097145</td>\n",
       "      <td>0.064380</td>\n",
       "      <td>0.102286</td>\n",
       "      <td>0.190322</td>\n",
       "      <td>0</td>\n",
       "      <td>0</td>\n",
       "      <td>0</td>\n",
       "      <td>0</td>\n",
       "      <td>1</td>\n",
       "    </tr>\n",
       "    <tr>\n",
       "      <th>8267</th>\n",
       "      <td>0.709162</td>\n",
       "      <td>-0.876696</td>\n",
       "      <td>0.941176</td>\n",
       "      <td>0.085966</td>\n",
       "      <td>0.121974</td>\n",
       "      <td>0.036744</td>\n",
       "      <td>0.124157</td>\n",
       "      <td>0.228452</td>\n",
       "      <td>0</td>\n",
       "      <td>0</td>\n",
       "      <td>0</td>\n",
       "      <td>0</td>\n",
       "      <td>1</td>\n",
       "    </tr>\n",
       "    <tr>\n",
       "      <th>17445</th>\n",
       "      <td>-0.447603</td>\n",
       "      <td>-0.460146</td>\n",
       "      <td>0.058824</td>\n",
       "      <td>0.048197</td>\n",
       "      <td>0.051210</td>\n",
       "      <td>0.025561</td>\n",
       "      <td>0.055090</td>\n",
       "      <td>0.252162</td>\n",
       "      <td>0</td>\n",
       "      <td>0</td>\n",
       "      <td>0</td>\n",
       "      <td>0</td>\n",
       "      <td>1</td>\n",
       "    </tr>\n",
       "    <tr>\n",
       "      <th>14265</th>\n",
       "      <td>1.232698</td>\n",
       "      <td>-1.382172</td>\n",
       "      <td>0.686275</td>\n",
       "      <td>0.036090</td>\n",
       "      <td>0.056797</td>\n",
       "      <td>0.039659</td>\n",
       "      <td>0.058214</td>\n",
       "      <td>0.099488</td>\n",
       "      <td>0</td>\n",
       "      <td>0</td>\n",
       "      <td>0</td>\n",
       "      <td>0</td>\n",
       "      <td>1</td>\n",
       "    </tr>\n",
       "    <tr>\n",
       "      <th>2271</th>\n",
       "      <td>-0.108551</td>\n",
       "      <td>0.532084</td>\n",
       "      <td>0.823529</td>\n",
       "      <td>0.060532</td>\n",
       "      <td>0.066729</td>\n",
       "      <td>0.024412</td>\n",
       "      <td>0.062325</td>\n",
       "      <td>0.210638</td>\n",
       "      <td>0</td>\n",
       "      <td>1</td>\n",
       "      <td>0</td>\n",
       "      <td>0</td>\n",
       "      <td>0</td>\n",
       "    </tr>\n",
       "  </tbody>\n",
       "</table>\n",
       "</div>"
      ],
      "text/plain": [
       "       longitude  latitude  housing_median_age  total_rooms  total_bedrooms  \\\n",
       "14196   1.272587 -1.372811            0.627451     0.079455        0.097145   \n",
       "8267    0.709162 -0.876696            0.941176     0.085966        0.121974   \n",
       "17445  -0.447603 -0.460146            0.058824     0.048197        0.051210   \n",
       "14265   1.232698 -1.382172            0.686275     0.036090        0.056797   \n",
       "2271   -0.108551  0.532084            0.823529     0.060532        0.066729   \n",
       "\n",
       "       population  households  median_income  <1H OCEAN  INLAND  ISLAND  \\\n",
       "14196    0.064380    0.102286       0.190322          0       0       0   \n",
       "8267     0.036744    0.124157       0.228452          0       0       0   \n",
       "17445    0.025561    0.055090       0.252162          0       0       0   \n",
       "14265    0.039659    0.058214       0.099488          0       0       0   \n",
       "2271     0.024412    0.062325       0.210638          0       1       0   \n",
       "\n",
       "       NEAR BAY  NEAR OCEAN  \n",
       "14196         0           1  \n",
       "8267          0           1  \n",
       "17445         0           1  \n",
       "14265         0           1  \n",
       "2271          0           0  "
      ]
     },
     "execution_count": 12,
     "metadata": {},
     "output_type": "execute_result"
    }
   ],
   "source": [
    "from sklearn.pipeline import make_pipeline\n",
    "\n",
    "make_column_transformer = make_pipeline(impute_total_bedrooms(), OHE(), features_scaler())\n",
    "    \n",
    "X_train_transformed = pipe.fit_transform(X_train)\n",
    "X_train_transformed.head(5)"
   ]
  },
  {
   "cell_type": "markdown",
   "id": "faeabca3",
   "metadata": {},
   "source": [
    "### With column transformer"
   ]
  },
  {
   "cell_type": "markdown",
   "id": "d2789de1",
   "metadata": {},
   "source": [
    "`ColumnTransformer` is used to combine transformer pipeline"
   ]
  },
  {
   "cell_type": "code",
   "execution_count": 22,
   "id": "df26f83c",
   "metadata": {},
   "outputs": [
    {
     "data": {
      "text/html": [
       "<div>\n",
       "<style scoped>\n",
       "    .dataframe tbody tr th:only-of-type {\n",
       "        vertical-align: middle;\n",
       "    }\n",
       "\n",
       "    .dataframe tbody tr th {\n",
       "        vertical-align: top;\n",
       "    }\n",
       "\n",
       "    .dataframe thead th {\n",
       "        text-align: right;\n",
       "    }\n",
       "</style>\n",
       "<table border=\"1\" class=\"dataframe\">\n",
       "  <thead>\n",
       "    <tr style=\"text-align: right;\">\n",
       "      <th></th>\n",
       "      <th>longitude</th>\n",
       "      <th>latitude</th>\n",
       "      <th>housing_median_age</th>\n",
       "      <th>total_rooms</th>\n",
       "      <th>total_bedrooms</th>\n",
       "      <th>population</th>\n",
       "      <th>households</th>\n",
       "      <th>median_income</th>\n",
       "      <th>ocean_proximity</th>\n",
       "    </tr>\n",
       "  </thead>\n",
       "  <tbody>\n",
       "    <tr>\n",
       "      <th>14196</th>\n",
       "      <td>-117.03</td>\n",
       "      <td>32.71</td>\n",
       "      <td>33.0</td>\n",
       "      <td>3126.0</td>\n",
       "      <td>627.0</td>\n",
       "      <td>2300.0</td>\n",
       "      <td>623.0</td>\n",
       "      <td>3.2596</td>\n",
       "      <td>NEAR OCEAN</td>\n",
       "    </tr>\n",
       "    <tr>\n",
       "      <th>8267</th>\n",
       "      <td>-118.16</td>\n",
       "      <td>33.77</td>\n",
       "      <td>49.0</td>\n",
       "      <td>3382.0</td>\n",
       "      <td>787.0</td>\n",
       "      <td>1314.0</td>\n",
       "      <td>756.0</td>\n",
       "      <td>3.8125</td>\n",
       "      <td>NEAR OCEAN</td>\n",
       "    </tr>\n",
       "    <tr>\n",
       "      <th>17445</th>\n",
       "      <td>-120.48</td>\n",
       "      <td>34.66</td>\n",
       "      <td>4.0</td>\n",
       "      <td>1897.0</td>\n",
       "      <td>331.0</td>\n",
       "      <td>915.0</td>\n",
       "      <td>336.0</td>\n",
       "      <td>4.1563</td>\n",
       "      <td>NEAR OCEAN</td>\n",
       "    </tr>\n",
       "    <tr>\n",
       "      <th>14265</th>\n",
       "      <td>-117.11</td>\n",
       "      <td>32.69</td>\n",
       "      <td>36.0</td>\n",
       "      <td>1421.0</td>\n",
       "      <td>367.0</td>\n",
       "      <td>1418.0</td>\n",
       "      <td>355.0</td>\n",
       "      <td>1.9425</td>\n",
       "      <td>NEAR OCEAN</td>\n",
       "    </tr>\n",
       "    <tr>\n",
       "      <th>2271</th>\n",
       "      <td>-119.80</td>\n",
       "      <td>36.78</td>\n",
       "      <td>43.0</td>\n",
       "      <td>2382.0</td>\n",
       "      <td>431.0</td>\n",
       "      <td>874.0</td>\n",
       "      <td>380.0</td>\n",
       "      <td>3.5542</td>\n",
       "      <td>INLAND</td>\n",
       "    </tr>\n",
       "    <tr>\n",
       "      <th>...</th>\n",
       "      <td>...</td>\n",
       "      <td>...</td>\n",
       "      <td>...</td>\n",
       "      <td>...</td>\n",
       "      <td>...</td>\n",
       "      <td>...</td>\n",
       "      <td>...</td>\n",
       "      <td>...</td>\n",
       "      <td>...</td>\n",
       "    </tr>\n",
       "    <tr>\n",
       "      <th>11284</th>\n",
       "      <td>-117.96</td>\n",
       "      <td>33.78</td>\n",
       "      <td>35.0</td>\n",
       "      <td>1330.0</td>\n",
       "      <td>201.0</td>\n",
       "      <td>658.0</td>\n",
       "      <td>217.0</td>\n",
       "      <td>6.3700</td>\n",
       "      <td>&lt;1H OCEAN</td>\n",
       "    </tr>\n",
       "    <tr>\n",
       "      <th>11964</th>\n",
       "      <td>-117.43</td>\n",
       "      <td>34.02</td>\n",
       "      <td>33.0</td>\n",
       "      <td>3084.0</td>\n",
       "      <td>570.0</td>\n",
       "      <td>1753.0</td>\n",
       "      <td>449.0</td>\n",
       "      <td>3.0500</td>\n",
       "      <td>INLAND</td>\n",
       "    </tr>\n",
       "    <tr>\n",
       "      <th>5390</th>\n",
       "      <td>-118.38</td>\n",
       "      <td>34.03</td>\n",
       "      <td>36.0</td>\n",
       "      <td>2101.0</td>\n",
       "      <td>569.0</td>\n",
       "      <td>1756.0</td>\n",
       "      <td>527.0</td>\n",
       "      <td>2.9344</td>\n",
       "      <td>&lt;1H OCEAN</td>\n",
       "    </tr>\n",
       "    <tr>\n",
       "      <th>860</th>\n",
       "      <td>-121.96</td>\n",
       "      <td>37.58</td>\n",
       "      <td>15.0</td>\n",
       "      <td>3575.0</td>\n",
       "      <td>597.0</td>\n",
       "      <td>1777.0</td>\n",
       "      <td>559.0</td>\n",
       "      <td>5.7192</td>\n",
       "      <td>&lt;1H OCEAN</td>\n",
       "    </tr>\n",
       "    <tr>\n",
       "      <th>15795</th>\n",
       "      <td>-122.42</td>\n",
       "      <td>37.77</td>\n",
       "      <td>52.0</td>\n",
       "      <td>4226.0</td>\n",
       "      <td>1315.0</td>\n",
       "      <td>2619.0</td>\n",
       "      <td>1242.0</td>\n",
       "      <td>2.5755</td>\n",
       "      <td>NEAR BAY</td>\n",
       "    </tr>\n",
       "  </tbody>\n",
       "</table>\n",
       "<p>16512 rows × 9 columns</p>\n",
       "</div>"
      ],
      "text/plain": [
       "       longitude  latitude  housing_median_age  total_rooms  total_bedrooms  \\\n",
       "14196    -117.03     32.71                33.0       3126.0           627.0   \n",
       "8267     -118.16     33.77                49.0       3382.0           787.0   \n",
       "17445    -120.48     34.66                 4.0       1897.0           331.0   \n",
       "14265    -117.11     32.69                36.0       1421.0           367.0   \n",
       "2271     -119.80     36.78                43.0       2382.0           431.0   \n",
       "...          ...       ...                 ...          ...             ...   \n",
       "11284    -117.96     33.78                35.0       1330.0           201.0   \n",
       "11964    -117.43     34.02                33.0       3084.0           570.0   \n",
       "5390     -118.38     34.03                36.0       2101.0           569.0   \n",
       "860      -121.96     37.58                15.0       3575.0           597.0   \n",
       "15795    -122.42     37.77                52.0       4226.0          1315.0   \n",
       "\n",
       "       population  households  median_income ocean_proximity  \n",
       "14196      2300.0       623.0         3.2596      NEAR OCEAN  \n",
       "8267       1314.0       756.0         3.8125      NEAR OCEAN  \n",
       "17445       915.0       336.0         4.1563      NEAR OCEAN  \n",
       "14265      1418.0       355.0         1.9425      NEAR OCEAN  \n",
       "2271        874.0       380.0         3.5542          INLAND  \n",
       "...           ...         ...            ...             ...  \n",
       "11284       658.0       217.0         6.3700       <1H OCEAN  \n",
       "11964      1753.0       449.0         3.0500          INLAND  \n",
       "5390       1756.0       527.0         2.9344       <1H OCEAN  \n",
       "860        1777.0       559.0         5.7192       <1H OCEAN  \n",
       "15795      2619.0      1242.0         2.5755        NEAR BAY  \n",
       "\n",
       "[16512 rows x 9 columns]"
      ]
     },
     "execution_count": 22,
     "metadata": {},
     "output_type": "execute_result"
    }
   ],
   "source": [
    "X_train"
   ]
  },
  {
   "cell_type": "code",
   "execution_count": 23,
   "id": "a3714e92",
   "metadata": {},
   "outputs": [],
   "source": [
    "numerical_features = X_train.iloc[:,:-1]\n",
    "categorical_features = X_train.iloc[:,-1]"
   ]
  },
  {
   "cell_type": "code",
   "execution_count": 24,
   "id": "adf3f1df",
   "metadata": {},
   "outputs": [],
   "source": [
    "numeric_pipeline = Pipeline(steps=[\n",
    "    ('impute', SimpleImputer(strategy='mean')),\n",
    "    ('scale', MinMaxScaler())\n",
    "])\n",
    "\n",
    "categorical_pipeline = Pipeline(steps=[\n",
    "    ('impute', SimpleImputer(strategy='most_frequent')),\n",
    "    ('one-hot', OneHotEncoder(handle_unknown='ignore', sparse=False))\n",
    "])"
   ]
  },
  {
   "cell_type": "code",
   "execution_count": 25,
   "id": "f0cfbc0e",
   "metadata": {},
   "outputs": [],
   "source": [
    "from sklearn.compose import ColumnTransformer\n",
    "\n",
    "full_processor = ColumnTransformer(transformers=[\n",
    "    ('number', numeric_pipeline, numerical_features),\n",
    "    ('category', categorical_pipeline, categorical_features)\n",
    "])"
   ]
  },
  {
   "cell_type": "markdown",
   "id": "f03a50d4",
   "metadata": {},
   "source": [
    "<u>Note:</u> As far as I know, you will also need to use the ColumnTransformer if you want to combine estimators and transformers in the same pipeline"
   ]
  },
  {
   "cell_type": "code",
   "execution_count": 51,
   "id": "85f0c7ad",
   "metadata": {},
   "outputs": [],
   "source": [
    "full_processor = ColumnTransformer(transformers=[\n",
    "    ('transformer', column_transformer)\n",
    "    ])"
   ]
  },
  {
   "cell_type": "markdown",
   "id": "da1fc902",
   "metadata": {},
   "source": [
    "## Add Estimator Pipeline"
   ]
  },
  {
   "cell_type": "code",
   "execution_count": 52,
   "id": "9f056740",
   "metadata": {
    "scrolled": true
   },
   "outputs": [
    {
     "data": {
      "text/html": [
       "<style>#sk-container-id-1 {color: black;background-color: white;}#sk-container-id-1 pre{padding: 0;}#sk-container-id-1 div.sk-toggleable {background-color: white;}#sk-container-id-1 label.sk-toggleable__label {cursor: pointer;display: block;width: 100%;margin-bottom: 0;padding: 0.3em;box-sizing: border-box;text-align: center;}#sk-container-id-1 label.sk-toggleable__label-arrow:before {content: \"▸\";float: left;margin-right: 0.25em;color: #696969;}#sk-container-id-1 label.sk-toggleable__label-arrow:hover:before {color: black;}#sk-container-id-1 div.sk-estimator:hover label.sk-toggleable__label-arrow:before {color: black;}#sk-container-id-1 div.sk-toggleable__content {max-height: 0;max-width: 0;overflow: hidden;text-align: left;background-color: #f0f8ff;}#sk-container-id-1 div.sk-toggleable__content pre {margin: 0.2em;color: black;border-radius: 0.25em;background-color: #f0f8ff;}#sk-container-id-1 input.sk-toggleable__control:checked~div.sk-toggleable__content {max-height: 200px;max-width: 100%;overflow: auto;}#sk-container-id-1 input.sk-toggleable__control:checked~label.sk-toggleable__label-arrow:before {content: \"▾\";}#sk-container-id-1 div.sk-estimator input.sk-toggleable__control:checked~label.sk-toggleable__label {background-color: #d4ebff;}#sk-container-id-1 div.sk-label input.sk-toggleable__control:checked~label.sk-toggleable__label {background-color: #d4ebff;}#sk-container-id-1 input.sk-hidden--visually {border: 0;clip: rect(1px 1px 1px 1px);clip: rect(1px, 1px, 1px, 1px);height: 1px;margin: -1px;overflow: hidden;padding: 0;position: absolute;width: 1px;}#sk-container-id-1 div.sk-estimator {font-family: monospace;background-color: #f0f8ff;border: 1px dotted black;border-radius: 0.25em;box-sizing: border-box;margin-bottom: 0.5em;}#sk-container-id-1 div.sk-estimator:hover {background-color: #d4ebff;}#sk-container-id-1 div.sk-parallel-item::after {content: \"\";width: 100%;border-bottom: 1px solid gray;flex-grow: 1;}#sk-container-id-1 div.sk-label:hover label.sk-toggleable__label {background-color: #d4ebff;}#sk-container-id-1 div.sk-serial::before {content: \"\";position: absolute;border-left: 1px solid gray;box-sizing: border-box;top: 0;bottom: 0;left: 50%;z-index: 0;}#sk-container-id-1 div.sk-serial {display: flex;flex-direction: column;align-items: center;background-color: white;padding-right: 0.2em;padding-left: 0.2em;position: relative;}#sk-container-id-1 div.sk-item {position: relative;z-index: 1;}#sk-container-id-1 div.sk-parallel {display: flex;align-items: stretch;justify-content: center;background-color: white;position: relative;}#sk-container-id-1 div.sk-item::before, #sk-container-id-1 div.sk-parallel-item::before {content: \"\";position: absolute;border-left: 1px solid gray;box-sizing: border-box;top: 0;bottom: 0;left: 50%;z-index: -1;}#sk-container-id-1 div.sk-parallel-item {display: flex;flex-direction: column;z-index: 1;position: relative;background-color: white;}#sk-container-id-1 div.sk-parallel-item:first-child::after {align-self: flex-end;width: 50%;}#sk-container-id-1 div.sk-parallel-item:last-child::after {align-self: flex-start;width: 50%;}#sk-container-id-1 div.sk-parallel-item:only-child::after {width: 0;}#sk-container-id-1 div.sk-dashed-wrapped {border: 1px dashed gray;margin: 0 0.4em 0.5em 0.4em;box-sizing: border-box;padding-bottom: 0.4em;background-color: white;}#sk-container-id-1 div.sk-label label {font-family: monospace;font-weight: bold;display: inline-block;line-height: 1.2em;}#sk-container-id-1 div.sk-label-container {text-align: center;}#sk-container-id-1 div.sk-container {/* jupyter's `normalize.less` sets `[hidden] { display: none; }` but bootstrap.min.css set `[hidden] { display: none !important; }` so we also need the `!important` here to be able to override the default hidden behavior on the sphinx rendered scikit-learn.org. See: https://github.com/scikit-learn/scikit-learn/issues/21755 */display: inline-block !important;position: relative;}#sk-container-id-1 div.sk-text-repr-fallback {display: none;}</style><div id=\"sk-container-id-1\" class=\"sk-top-container\"><div class=\"sk-text-repr-fallback\"><pre>Pipeline(steps=[(&#x27;preprocess&#x27;,\n",
       "                 Pipeline(steps=[(&#x27;imputer&#x27;, impute_total_bedrooms()),\n",
       "                                 (&#x27;OHE&#x27;, OHE()),\n",
       "                                 (&#x27;scaler&#x27;, features_scaler())])),\n",
       "                (&#x27;model&#x27;, Lasso(alpha=0.1))])</pre><b>In a Jupyter environment, please rerun this cell to show the HTML representation or trust the notebook. <br />On GitHub, the HTML representation is unable to render, please try loading this page with nbviewer.org.</b></div><div class=\"sk-container\" hidden><div class=\"sk-item sk-dashed-wrapped\"><div class=\"sk-label-container\"><div class=\"sk-label sk-toggleable\"><input class=\"sk-toggleable__control sk-hidden--visually\" id=\"sk-estimator-id-1\" type=\"checkbox\" ><label for=\"sk-estimator-id-1\" class=\"sk-toggleable__label sk-toggleable__label-arrow\">Pipeline</label><div class=\"sk-toggleable__content\"><pre>Pipeline(steps=[(&#x27;preprocess&#x27;,\n",
       "                 Pipeline(steps=[(&#x27;imputer&#x27;, impute_total_bedrooms()),\n",
       "                                 (&#x27;OHE&#x27;, OHE()),\n",
       "                                 (&#x27;scaler&#x27;, features_scaler())])),\n",
       "                (&#x27;model&#x27;, Lasso(alpha=0.1))])</pre></div></div></div><div class=\"sk-serial\"><div class=\"sk-item\"><div class=\"sk-label-container\"><div class=\"sk-label sk-toggleable\"><input class=\"sk-toggleable__control sk-hidden--visually\" id=\"sk-estimator-id-2\" type=\"checkbox\" ><label for=\"sk-estimator-id-2\" class=\"sk-toggleable__label sk-toggleable__label-arrow\">preprocess: Pipeline</label><div class=\"sk-toggleable__content\"><pre>Pipeline(steps=[(&#x27;imputer&#x27;, impute_total_bedrooms()), (&#x27;OHE&#x27;, OHE()),\n",
       "                (&#x27;scaler&#x27;, features_scaler())])</pre></div></div></div><div class=\"sk-serial\"><div class=\"sk-item\"><div class=\"sk-estimator sk-toggleable\"><input class=\"sk-toggleable__control sk-hidden--visually\" id=\"sk-estimator-id-3\" type=\"checkbox\" ><label for=\"sk-estimator-id-3\" class=\"sk-toggleable__label sk-toggleable__label-arrow\">impute_total_bedrooms</label><div class=\"sk-toggleable__content\"><pre>impute_total_bedrooms()</pre></div></div></div><div class=\"sk-item\"><div class=\"sk-estimator sk-toggleable\"><input class=\"sk-toggleable__control sk-hidden--visually\" id=\"sk-estimator-id-4\" type=\"checkbox\" ><label for=\"sk-estimator-id-4\" class=\"sk-toggleable__label sk-toggleable__label-arrow\">OHE</label><div class=\"sk-toggleable__content\"><pre>OHE()</pre></div></div></div><div class=\"sk-item\"><div class=\"sk-estimator sk-toggleable\"><input class=\"sk-toggleable__control sk-hidden--visually\" id=\"sk-estimator-id-5\" type=\"checkbox\" ><label for=\"sk-estimator-id-5\" class=\"sk-toggleable__label sk-toggleable__label-arrow\">features_scaler</label><div class=\"sk-toggleable__content\"><pre>features_scaler()</pre></div></div></div></div></div><div class=\"sk-item\"><div class=\"sk-estimator sk-toggleable\"><input class=\"sk-toggleable__control sk-hidden--visually\" id=\"sk-estimator-id-6\" type=\"checkbox\" ><label for=\"sk-estimator-id-6\" class=\"sk-toggleable__label sk-toggleable__label-arrow\">Lasso</label><div class=\"sk-toggleable__content\"><pre>Lasso(alpha=0.1)</pre></div></div></div></div></div></div></div>"
      ],
      "text/plain": [
       "Pipeline(steps=[('preprocess',\n",
       "                 Pipeline(steps=[('imputer', impute_total_bedrooms()),\n",
       "                                 ('OHE', OHE()),\n",
       "                                 ('scaler', features_scaler())])),\n",
       "                ('model', Lasso(alpha=0.1))])"
      ]
     },
     "execution_count": 52,
     "metadata": {},
     "output_type": "execute_result"
    }
   ],
   "source": [
    "from sklearn.pipeline import Pipeline\n",
    "from sklearn.linear_model import Lasso\n",
    "from sklearn.metrics import mean_absolute_error\n",
    "\n",
    "#define lasso model\n",
    "lasso = Lasso(alpha=0.1)\n",
    "\n",
    "#Put everything into a pipeline \n",
    "pipe = Pipeline(steps=[\n",
    "    ('preprocess', column_transformer), \n",
    "    ('model', lasso)\n",
    "    ])\n",
    "\n",
    "#Train your model on the train dataset\n",
    "pipe.fit(X_train,y_train)"
   ]
  },
  {
   "cell_type": "code",
   "execution_count": 56,
   "id": "4cba59bc",
   "metadata": {},
   "outputs": [
    {
     "name": "stdout",
     "output_type": "stream",
     "text": [
      "MAE score: 69822.53980957619\n"
     ]
    }
   ],
   "source": [
    "#Test model on the test dataset\n",
    "\n",
    "#Predict values of the test dataset\n",
    "y_pred = pipe.predict(X_test)\n",
    "\n",
    "#Get the MAE score by comparing predicted values y_pred with actual target y_test\n",
    "print('MAE score:', mean_absolute_error(y_test, y_pred))"
   ]
  },
  {
   "cell_type": "markdown",
   "id": "07206099",
   "metadata": {},
   "source": [
    "<u>Note:</u> `.score` return:\n",
    "- The *accuracy* when called on classifiers\n",
    "- The *R squared* when called on a regressors"
   ]
  },
  {
   "cell_type": "code",
   "execution_count": 57,
   "id": "1917f882",
   "metadata": {},
   "outputs": [
    {
     "name": "stdout",
     "output_type": "stream",
     "text": [
      "R squared: 0.27342289819786514\n"
     ]
    }
   ],
   "source": [
    "print('R squared:', pipe.score(X_test, y_test))"
   ]
  },
  {
   "cell_type": "markdown",
   "id": "30eacf1d",
   "metadata": {},
   "source": [
    "# GridSearch"
   ]
  },
  {
   "cell_type": "markdown",
   "id": "9d925058",
   "metadata": {},
   "source": [
    "**Documentation:** https://scikit-learn.org/stable/modules/generated/sklearn.model_selection.GridSearchCV.html"
   ]
  },
  {
   "cell_type": "markdown",
   "id": "b8e4d8e5",
   "metadata": {},
   "source": [
    "<center><b>GridSearch vs RandomGridSearch:</b></center>\n",
    "\n",
    "\n",
    "- Grid search:\n",
    "    - looks at every possible combination of hyperparameters to find the best model\n",
    "    - sklearn.model_selection.GridSearchCV\n",
    "- Randomized Grid Search:\n",
    "    - only selects and tests a random combination of hyperparameters.\n",
    "    - sklearn.model_selection.RandomizedSearchCV"
   ]
  },
  {
   "cell_type": "code",
   "execution_count": 58,
   "id": "04222dc3",
   "metadata": {},
   "outputs": [
    {
     "name": "stdout",
     "output_type": "stream",
     "text": [
      "Best parameters: {'model__alpha': 0.0}\n",
      "Best Model Score: -49594.84209472437\n"
     ]
    }
   ],
   "source": [
    "from sklearn.model_selection import GridSearchCV\n",
    "\n",
    "#define parameters, np.arrange(0, 1, 0.05) means every values from 0 to 0.1 with intervals of 0.05\n",
    "param_dict = {'model__alpha': np.arange(0, 1, 0.05)}\n",
    "\n",
    "#GridSearch\n",
    "search = GridSearchCV(pipe, \n",
    "                      param_dict,\n",
    "                      n_jobs=5, #Number of jobs to run in parallel (depending on your computer)\n",
    "                      cv=5, #number of cross validation fold\n",
    "                      scoring='neg_mean_absolute_error')\n",
    "\n",
    "#Fit the model\n",
    "search.fit(X_train, y_train)\n",
    "\n",
    "#Get the best parameters for your model\n",
    "print('Best parameters:', search.best_params_)\n",
    "\n",
    "#Find best model score\n",
    "print('Best Model Score:',search.score(X_train, y_train))"
   ]
  },
  {
   "cell_type": "markdown",
   "id": "0b990204",
   "metadata": {},
   "source": [
    "Now we can fine-tune the model. We see that the best score is at alpha=0.\n",
    "Let's check the values from alpha=0 to alpha = 0.05."
   ]
  },
  {
   "cell_type": "code",
   "execution_count": 59,
   "id": "78a7bc64",
   "metadata": {},
   "outputs": [
    {
     "name": "stdout",
     "output_type": "stream",
     "text": [
      "Best parameters: {'model__alpha': 0.0}\n",
      "Best Model Score: -49594.84209472437\n"
     ]
    }
   ],
   "source": [
    "#define parameters, np.arrange(0, 1, 0.05) means every values from 0 to 0.1 with intervals of 0.05\n",
    "param_dict2 = {'model__alpha': np.arange(0, 0.05, 0.01)}\n",
    "\n",
    "#GridSearch\n",
    "search2 = GridSearchCV(pipe, \n",
    "                      param_dict2,\n",
    "                      n_jobs=5, #Number of jobs to run in parallel (depending on your computer)\n",
    "                      cv=5, #number of cross validation fold\n",
    "                      scoring='neg_mean_absolute_error')\n",
    "\n",
    "#Fit the model\n",
    "search2.fit(X_train, y_train)\n",
    "\n",
    "#Get the best parameters for your model\n",
    "print('Best parameters:', search2.best_params_)\n",
    "\n",
    "#Find best model score\n",
    "print('Best Model Score:',search2.score(X_train, y_train))"
   ]
  },
  {
   "cell_type": "markdown",
   "id": "6f4d0156",
   "metadata": {},
   "source": [
    "# Hyperparameters Optimization with Parfit"
   ]
  },
  {
   "cell_type": "markdown",
   "id": "b8f0d4d3",
   "metadata": {},
   "source": [
    "**Source:** https://blog.mlreview.com/parfit-hyper-parameter-optimization-77253e7e175e </br>\n",
    "**Documentation:** https://github.com/jmcarpenter2/parfit </br>\n",
    "**What is the full process?**\n",
    "- Create an effective validation set\n",
    "- Choose your model(s)\n",
    "- Create a parameter grid over which to evaluate your model on the validation set\n",
    "- Use parfit to visualize the scores over the grid and select the best model\n",
    "- Re-train model on full training set, using best parameters from parfit\n",
    "- Apply re-trained model to test set\n",
    "\n",
    "\n",
    "\n",
    "⚠️ Parfit use a lot of computing power. Use it on google colab and save your work before running it"
   ]
  },
  {
   "cell_type": "code",
   "execution_count": 7,
   "id": "0bb463aa",
   "metadata": {},
   "outputs": [
    {
     "data": {
      "text/html": [
       "<div>\n",
       "<style scoped>\n",
       "    .dataframe tbody tr th:only-of-type {\n",
       "        vertical-align: middle;\n",
       "    }\n",
       "\n",
       "    .dataframe tbody tr th {\n",
       "        vertical-align: top;\n",
       "    }\n",
       "\n",
       "    .dataframe thead th {\n",
       "        text-align: right;\n",
       "    }\n",
       "</style>\n",
       "<table border=\"1\" class=\"dataframe\">\n",
       "  <thead>\n",
       "    <tr style=\"text-align: right;\">\n",
       "      <th></th>\n",
       "      <th>longitude</th>\n",
       "      <th>latitude</th>\n",
       "      <th>housing_median_age</th>\n",
       "      <th>total_rooms</th>\n",
       "      <th>total_bedrooms</th>\n",
       "      <th>population</th>\n",
       "      <th>households</th>\n",
       "      <th>median_income</th>\n",
       "    </tr>\n",
       "  </thead>\n",
       "  <tbody>\n",
       "    <tr>\n",
       "      <th>14196</th>\n",
       "      <td>-117.03</td>\n",
       "      <td>32.71</td>\n",
       "      <td>33.0</td>\n",
       "      <td>3126.0</td>\n",
       "      <td>627.0</td>\n",
       "      <td>2300.0</td>\n",
       "      <td>623.0</td>\n",
       "      <td>3.2596</td>\n",
       "    </tr>\n",
       "    <tr>\n",
       "      <th>8267</th>\n",
       "      <td>-118.16</td>\n",
       "      <td>33.77</td>\n",
       "      <td>49.0</td>\n",
       "      <td>3382.0</td>\n",
       "      <td>787.0</td>\n",
       "      <td>1314.0</td>\n",
       "      <td>756.0</td>\n",
       "      <td>3.8125</td>\n",
       "    </tr>\n",
       "  </tbody>\n",
       "</table>\n",
       "</div>"
      ],
      "text/plain": [
       "       longitude  latitude  housing_median_age  total_rooms  total_bedrooms  \\\n",
       "14196    -117.03     32.71                33.0       3126.0           627.0   \n",
       "8267     -118.16     33.77                49.0       3382.0           787.0   \n",
       "\n",
       "       population  households  median_income  \n",
       "14196      2300.0       623.0         3.2596  \n",
       "8267       1314.0       756.0         3.8125  "
      ]
     },
     "execution_count": 7,
     "metadata": {},
     "output_type": "execute_result"
    }
   ],
   "source": [
    "#Prepare variables for preprocessing\n",
    "df_rg = data1.copy()\n",
    "X = df_rg.drop([\"median_house_value\",\"ocean_proximity\"], axis=1)\n",
    "y = df_rg['median_house_value']\n",
    "\n",
    "#Split the dataset\n",
    "from sklearn.model_selection import train_test_split\n",
    "\n",
    "X_train, X_test, y_train, y_test = train_test_split(X, y, test_size=0.2, random_state=42)\n",
    "X_train.head(2)"
   ]
  },
  {
   "cell_type": "code",
   "execution_count": 8,
   "id": "587644ec",
   "metadata": {},
   "outputs": [
    {
     "name": "stdout",
     "output_type": "stream",
     "text": [
      "-------------FITTING MODELS-------------\n"
     ]
    },
    {
     "name": "stderr",
     "output_type": "stream",
     "text": [
      "[Parallel(n_jobs=-1)]: Using backend LokyBackend with 20 concurrent workers.\n",
      "[Parallel(n_jobs=-1)]: Done   1 tasks      | elapsed:  4.1min\n",
      "[Parallel(n_jobs=-1)]: Done  10 tasks      | elapsed:  4.5min\n",
      "[Parallel(n_jobs=-1)]: Done  21 tasks      | elapsed:  4.8min\n",
      "[Parallel(n_jobs=-1)]: Done  22 tasks      | elapsed:  4.8min\n",
      "[Parallel(n_jobs=-1)]: Done  23 tasks      | elapsed:  4.8min\n",
      "[Parallel(n_jobs=-1)]: Done  24 tasks      | elapsed:  4.8min\n",
      "[Parallel(n_jobs=-1)]: Done  25 tasks      | elapsed:  4.8min\n",
      "[Parallel(n_jobs=-1)]: Done  26 tasks      | elapsed:  4.8min\n",
      "[Parallel(n_jobs=-1)]: Done  27 tasks      | elapsed:  4.8min\n",
      "[Parallel(n_jobs=-1)]: Done  28 tasks      | elapsed:  4.8min\n",
      "[Parallel(n_jobs=-1)]: Done  29 tasks      | elapsed:  4.8min\n",
      "[Parallel(n_jobs=-1)]: Done  30 tasks      | elapsed:  4.8min\n",
      "[Parallel(n_jobs=-1)]: Done  31 tasks      | elapsed:  4.8min\n",
      "[Parallel(n_jobs=-1)]: Done  32 tasks      | elapsed:  4.8min\n",
      "[Parallel(n_jobs=-1)]: Done  33 tasks      | elapsed:  4.8min\n",
      "[Parallel(n_jobs=-1)]: Done  35 out of  60 | elapsed:  4.8min remaining:  3.4min\n",
      "[Parallel(n_jobs=-1)]: Done  42 out of  60 | elapsed:  4.8min remaining:  2.1min\n",
      "[Parallel(n_jobs=-1)]: Done  49 out of  60 | elapsed:  4.8min remaining:  1.1min\n",
      "[Parallel(n_jobs=-1)]: Done  56 out of  60 | elapsed:  4.8min remaining:   20.4s\n"
     ]
    },
    {
     "ename": "MemoryError",
     "evalue": "could not allocate 963379200 bytes",
     "output_type": "error",
     "traceback": [
      "\u001b[1;31m---------------------------------------------------------------------------\u001b[0m",
      "\u001b[1;31m_RemoteTraceback\u001b[0m                          Traceback (most recent call last)",
      "\u001b[1;31m_RemoteTraceback\u001b[0m: \n\"\"\"\nTraceback (most recent call last):\n  File \"C:\\Users\\jerem\\anaconda3\\lib\\site-packages\\joblib\\externals\\loky\\process_executor.py\", line 436, in _process_worker\n    r = call_item()\n  File \"C:\\Users\\jerem\\anaconda3\\lib\\site-packages\\joblib\\externals\\loky\\process_executor.py\", line 288, in __call__\n    return self.fn(*self.args, **self.kwargs)\n  File \"C:\\Users\\jerem\\anaconda3\\lib\\site-packages\\joblib\\_parallel_backends.py\", line 595, in __call__\n    return self.func(*args, **kwargs)\n  File \"C:\\Users\\jerem\\anaconda3\\lib\\site-packages\\joblib\\parallel.py\", line 263, in __call__\n    return [func(*args, **kwargs)\n  File \"C:\\Users\\jerem\\anaconda3\\lib\\site-packages\\joblib\\parallel.py\", line 263, in <listcomp>\n    return [func(*args, **kwargs)\n  File \"C:\\Users\\jerem\\anaconda3\\lib\\site-packages\\parfit\\fit.py\", line 24, in fitOne\n    return model.fit(X, y)\n  File \"C:\\Users\\jerem\\AppData\\Roaming\\Python\\Python39\\site-packages\\sklearn\\ensemble\\_forest.py\", line 476, in fit\n    trees = Parallel(\n  File \"C:\\Users\\jerem\\anaconda3\\lib\\site-packages\\joblib\\parallel.py\", line 1061, in __call__\n    self.retrieve()\n  File \"C:\\Users\\jerem\\anaconda3\\lib\\site-packages\\joblib\\parallel.py\", line 938, in retrieve\n    self._output.extend(job.get(timeout=self.timeout))\n  File \"C:\\Users\\jerem\\anaconda3\\lib\\multiprocessing\\pool.py\", line 771, in get\n    raise self._value\n  File \"C:\\Users\\jerem\\anaconda3\\lib\\multiprocessing\\pool.py\", line 125, in worker\n    result = (True, func(*args, **kwds))\n  File \"C:\\Users\\jerem\\anaconda3\\lib\\site-packages\\joblib\\_parallel_backends.py\", line 595, in __call__\n    return self.func(*args, **kwargs)\n  File \"C:\\Users\\jerem\\anaconda3\\lib\\site-packages\\joblib\\parallel.py\", line 263, in __call__\n    return [func(*args, **kwargs)\n  File \"C:\\Users\\jerem\\anaconda3\\lib\\site-packages\\joblib\\parallel.py\", line 263, in <listcomp>\n    return [func(*args, **kwargs)\n  File \"C:\\Users\\jerem\\AppData\\Roaming\\Python\\Python39\\site-packages\\sklearn\\utils\\fixes.py\", line 117, in __call__\n    return self.function(*args, **kwargs)\n  File \"C:\\Users\\jerem\\AppData\\Roaming\\Python\\Python39\\site-packages\\sklearn\\ensemble\\_forest.py\", line 189, in _parallel_build_trees\n    tree.fit(X, y, sample_weight=curr_sample_weight, check_input=False)\n  File \"C:\\Users\\jerem\\AppData\\Roaming\\Python\\Python39\\site-packages\\sklearn\\tree\\_classes.py\", line 969, in fit\n    super().fit(\n  File \"C:\\Users\\jerem\\AppData\\Roaming\\Python\\Python39\\site-packages\\sklearn\\tree\\_classes.py\", line 458, in fit\n    builder.build(self.tree_, X, y, sample_weight)\n  File \"sklearn\\tree\\_tree.pyx\", line 148, in sklearn.tree._tree.DepthFirstTreeBuilder.build\n  File \"sklearn\\tree\\_tree.pyx\", line 248, in sklearn.tree._tree.DepthFirstTreeBuilder.build\n  File \"sklearn\\tree\\_tree.pyx\", line 763, in sklearn.tree._tree.Tree._add_node\n  File \"sklearn\\tree\\_tree.pyx\", line 735, in sklearn.tree._tree.Tree._resize_c\n  File \"sklearn\\tree\\_utils.pyx\", line 36, in sklearn.tree._utils.safe_realloc\nMemoryError: could not allocate 963379200 bytes\n\"\"\"",
      "\nThe above exception was the direct cause of the following exception:\n",
      "\u001b[1;31mMemoryError\u001b[0m                               Traceback (most recent call last)",
      "Input \u001b[1;32mIn [8]\u001b[0m, in \u001b[0;36m<cell line: 12>\u001b[1;34m()\u001b[0m\n\u001b[0;32m      4\u001b[0m \u001b[38;5;28;01mfrom\u001b[39;00m \u001b[38;5;21;01msklearn\u001b[39;00m\u001b[38;5;21;01m.\u001b[39;00m\u001b[38;5;21;01mmetrics\u001b[39;00m \u001b[38;5;28;01mimport\u001b[39;00m roc_auc_score\n\u001b[0;32m      5\u001b[0m paramGrid \u001b[38;5;241m=\u001b[39m ParameterGrid({\n\u001b[0;32m      6\u001b[0m     \u001b[38;5;124m'\u001b[39m\u001b[38;5;124mmin_samples_leaf\u001b[39m\u001b[38;5;124m'\u001b[39m: [\u001b[38;5;241m1\u001b[39m,\u001b[38;5;241m3\u001b[39m,\u001b[38;5;241m5\u001b[39m,\u001b[38;5;241m10\u001b[39m,\u001b[38;5;241m15\u001b[39m,\u001b[38;5;241m25\u001b[39m,\u001b[38;5;241m50\u001b[39m,\u001b[38;5;241m100\u001b[39m,\u001b[38;5;241m125\u001b[39m,\u001b[38;5;241m150\u001b[39m,\u001b[38;5;241m175\u001b[39m,\u001b[38;5;241m200\u001b[39m],\n\u001b[0;32m      7\u001b[0m     \u001b[38;5;124m'\u001b[39m\u001b[38;5;124mmax_features\u001b[39m\u001b[38;5;124m'\u001b[39m: [\u001b[38;5;124m'\u001b[39m\u001b[38;5;124msqrt\u001b[39m\u001b[38;5;124m'\u001b[39m, \u001b[38;5;124m'\u001b[39m\u001b[38;5;124mlog2\u001b[39m\u001b[38;5;124m'\u001b[39m, \u001b[38;5;241m0.4\u001b[39m, \u001b[38;5;241m0.5\u001b[39m, \u001b[38;5;241m0.6\u001b[39m, \u001b[38;5;241m0.7\u001b[39m],\n\u001b[1;32m   (...)\u001b[0m\n\u001b[0;32m     10\u001b[0m     \u001b[38;5;124m'\u001b[39m\u001b[38;5;124mrandom_state\u001b[39m\u001b[38;5;124m'\u001b[39m: [\u001b[38;5;241m42\u001b[39m]\n\u001b[0;32m     11\u001b[0m })\n\u001b[1;32m---> 12\u001b[0m best_model, best_score, all_models, all_scores \u001b[38;5;241m=\u001b[39m \u001b[43mpf\u001b[49m\u001b[38;5;241;43m.\u001b[39;49m\u001b[43mbestFit\u001b[49m\u001b[43m(\u001b[49m\u001b[43mRandomForestClassifier\u001b[49m\u001b[43m,\u001b[49m\u001b[43m \u001b[49m\u001b[43mparamGrid\u001b[49m\u001b[43m,\u001b[49m\u001b[43m \u001b[49m\n\u001b[0;32m     13\u001b[0m \u001b[43m     \u001b[49m\u001b[43mX_train\u001b[49m\u001b[43m,\u001b[49m\u001b[43m \u001b[49m\u001b[43my_train\u001b[49m\u001b[43m,\u001b[49m\u001b[43m \u001b[49m\u001b[43mX_test\u001b[49m\u001b[43m,\u001b[49m\u001b[43m \u001b[49m\u001b[43my_test\u001b[49m\u001b[43m,\u001b[49m\u001b[43m \u001b[49m\n\u001b[0;32m     14\u001b[0m \u001b[43m     \u001b[49m\u001b[43mmetric\u001b[49m\u001b[38;5;241;43m=\u001b[39;49m\u001b[43mroc_auc_score\u001b[49m\u001b[43m,\u001b[49m\u001b[43m \u001b[49m\u001b[43mscoreLabel\u001b[49m\u001b[38;5;241;43m=\u001b[39;49m\u001b[38;5;124;43m'\u001b[39;49m\u001b[38;5;124;43mAUC\u001b[39;49m\u001b[38;5;124;43m'\u001b[39;49m\u001b[43m)\u001b[49m\n\u001b[0;32m     15\u001b[0m \u001b[38;5;28mprint\u001b[39m(best_model)\n",
      "File \u001b[1;32m~\\anaconda3\\lib\\site-packages\\parfit\\parfit.py:65\u001b[0m, in \u001b[0;36mbestFit\u001b[1;34m(model, paramGrid, X_train, y_train, X_val, y_val, nfolds, metric, greater_is_better, predict_proba, showPlot, scoreLabel, vrange, cmap, n_jobs, verbose)\u001b[0m\n\u001b[0;32m     63\u001b[0m \u001b[38;5;28;01melse\u001b[39;00m:\n\u001b[0;32m     64\u001b[0m     \u001b[38;5;28mprint\u001b[39m(\u001b[38;5;124m\"\u001b[39m\u001b[38;5;124m-------------FITTING MODELS-------------\u001b[39m\u001b[38;5;124m\"\u001b[39m)\n\u001b[1;32m---> 65\u001b[0m     models \u001b[38;5;241m=\u001b[39m \u001b[43mfitModels\u001b[49m\u001b[43m(\u001b[49m\u001b[43mmodel\u001b[49m\u001b[43m,\u001b[49m\u001b[43m \u001b[49m\u001b[43mparamGrid\u001b[49m\u001b[43m,\u001b[49m\u001b[43m \u001b[49m\u001b[43mX_train\u001b[49m\u001b[43m,\u001b[49m\u001b[43m \u001b[49m\u001b[43my_train\u001b[49m\u001b[43m,\u001b[49m\u001b[43m \u001b[49m\u001b[43mn_jobs\u001b[49m\u001b[43m,\u001b[49m\u001b[43m \u001b[49m\u001b[43mverbose\u001b[49m\u001b[43m)\u001b[49m\n\u001b[0;32m     66\u001b[0m     \u001b[38;5;28mprint\u001b[39m(\u001b[38;5;124m\"\u001b[39m\u001b[38;5;124m-------------SCORING MODELS-------------\u001b[39m\u001b[38;5;124m\"\u001b[39m)\n\u001b[0;32m     67\u001b[0m     scores \u001b[38;5;241m=\u001b[39m scoreModels(models, X_val, y_val, metric, predict_proba, n_jobs, verbose)\n",
      "File \u001b[1;32m~\\anaconda3\\lib\\site-packages\\parfit\\fit.py:51\u001b[0m, in \u001b[0;36mfitModels\u001b[1;34m(model, paramGrid, X, y, n_jobs, verbose)\u001b[0m\n\u001b[0;32m     27\u001b[0m \u001b[38;5;28;01mdef\u001b[39;00m \u001b[38;5;21mfitModels\u001b[39m(model, paramGrid, X, y, n_jobs\u001b[38;5;241m=\u001b[39m\u001b[38;5;241m-\u001b[39m\u001b[38;5;241m1\u001b[39m, verbose\u001b[38;5;241m=\u001b[39m\u001b[38;5;241m10\u001b[39m):\n\u001b[0;32m     28\u001b[0m     \u001b[38;5;124;03m\"\"\"\u001b[39;00m\n\u001b[0;32m     29\u001b[0m \u001b[38;5;124;03m    Parallelizes fitting all models using all combinations of parameters in paramGrid on provided data.\u001b[39;00m\n\u001b[0;32m     30\u001b[0m \u001b[38;5;124;03m    :param model: The instantiated model you wish to pass, e.g. LogisticRegression()\u001b[39;00m\n\u001b[1;32m   (...)\u001b[0m\n\u001b[0;32m     49\u001b[0m \u001b[38;5;124;03m        myModels = fitModels(model, paramGrid, X_train, y_train)\u001b[39;00m\n\u001b[0;32m     50\u001b[0m \u001b[38;5;124;03m    \"\"\"\u001b[39;00m\n\u001b[1;32m---> 51\u001b[0m     \u001b[38;5;28;01mreturn\u001b[39;00m \u001b[43mParallel\u001b[49m\u001b[43m(\u001b[49m\u001b[43mn_jobs\u001b[49m\u001b[38;5;241;43m=\u001b[39;49m\u001b[43mn_jobs\u001b[49m\u001b[43m,\u001b[49m\u001b[43m \u001b[49m\u001b[43mverbose\u001b[49m\u001b[38;5;241;43m=\u001b[39;49m\u001b[43mverbose\u001b[49m\u001b[43m)\u001b[49m\u001b[43m(\u001b[49m\u001b[43mdelayed\u001b[49m\u001b[43m(\u001b[49m\u001b[43mfitOne\u001b[49m\u001b[43m)\u001b[49m\u001b[43m(\u001b[49m\u001b[43mmodel\u001b[49m\u001b[43m,\u001b[49m\u001b[43m \u001b[49m\u001b[43mX\u001b[49m\u001b[43m,\u001b[49m\u001b[43m \u001b[49m\u001b[43my\u001b[49m\u001b[43m,\u001b[49m\u001b[43m \u001b[49m\u001b[43mparams\u001b[49m\u001b[43m)\u001b[49m\u001b[43m \u001b[49m\u001b[38;5;28;43;01mfor\u001b[39;49;00m\u001b[43m \u001b[49m\u001b[43mparams\u001b[49m\u001b[43m \u001b[49m\u001b[38;5;129;43;01min\u001b[39;49;00m\u001b[43m \u001b[49m\u001b[43mparamGrid\u001b[49m\u001b[43m)\u001b[49m\n",
      "File \u001b[1;32m~\\anaconda3\\lib\\site-packages\\joblib\\parallel.py:1061\u001b[0m, in \u001b[0;36mParallel.__call__\u001b[1;34m(self, iterable)\u001b[0m\n\u001b[0;32m   1058\u001b[0m     \u001b[38;5;28mself\u001b[39m\u001b[38;5;241m.\u001b[39m_iterating \u001b[38;5;241m=\u001b[39m \u001b[38;5;28;01mFalse\u001b[39;00m\n\u001b[0;32m   1060\u001b[0m \u001b[38;5;28;01mwith\u001b[39;00m \u001b[38;5;28mself\u001b[39m\u001b[38;5;241m.\u001b[39m_backend\u001b[38;5;241m.\u001b[39mretrieval_context():\n\u001b[1;32m-> 1061\u001b[0m     \u001b[38;5;28;43mself\u001b[39;49m\u001b[38;5;241;43m.\u001b[39;49m\u001b[43mretrieve\u001b[49m\u001b[43m(\u001b[49m\u001b[43m)\u001b[49m\n\u001b[0;32m   1062\u001b[0m \u001b[38;5;66;03m# Make sure that we get a last message telling us we are done\u001b[39;00m\n\u001b[0;32m   1063\u001b[0m elapsed_time \u001b[38;5;241m=\u001b[39m time\u001b[38;5;241m.\u001b[39mtime() \u001b[38;5;241m-\u001b[39m \u001b[38;5;28mself\u001b[39m\u001b[38;5;241m.\u001b[39m_start_time\n",
      "File \u001b[1;32m~\\anaconda3\\lib\\site-packages\\joblib\\parallel.py:938\u001b[0m, in \u001b[0;36mParallel.retrieve\u001b[1;34m(self)\u001b[0m\n\u001b[0;32m    936\u001b[0m \u001b[38;5;28;01mtry\u001b[39;00m:\n\u001b[0;32m    937\u001b[0m     \u001b[38;5;28;01mif\u001b[39;00m \u001b[38;5;28mgetattr\u001b[39m(\u001b[38;5;28mself\u001b[39m\u001b[38;5;241m.\u001b[39m_backend, \u001b[38;5;124m'\u001b[39m\u001b[38;5;124msupports_timeout\u001b[39m\u001b[38;5;124m'\u001b[39m, \u001b[38;5;28;01mFalse\u001b[39;00m):\n\u001b[1;32m--> 938\u001b[0m         \u001b[38;5;28mself\u001b[39m\u001b[38;5;241m.\u001b[39m_output\u001b[38;5;241m.\u001b[39mextend(\u001b[43mjob\u001b[49m\u001b[38;5;241;43m.\u001b[39;49m\u001b[43mget\u001b[49m\u001b[43m(\u001b[49m\u001b[43mtimeout\u001b[49m\u001b[38;5;241;43m=\u001b[39;49m\u001b[38;5;28;43mself\u001b[39;49m\u001b[38;5;241;43m.\u001b[39;49m\u001b[43mtimeout\u001b[49m\u001b[43m)\u001b[49m)\n\u001b[0;32m    939\u001b[0m     \u001b[38;5;28;01melse\u001b[39;00m:\n\u001b[0;32m    940\u001b[0m         \u001b[38;5;28mself\u001b[39m\u001b[38;5;241m.\u001b[39m_output\u001b[38;5;241m.\u001b[39mextend(job\u001b[38;5;241m.\u001b[39mget())\n",
      "File \u001b[1;32m~\\anaconda3\\lib\\site-packages\\joblib\\_parallel_backends.py:542\u001b[0m, in \u001b[0;36mLokyBackend.wrap_future_result\u001b[1;34m(future, timeout)\u001b[0m\n\u001b[0;32m    539\u001b[0m \u001b[38;5;124;03m\"\"\"Wrapper for Future.result to implement the same behaviour as\u001b[39;00m\n\u001b[0;32m    540\u001b[0m \u001b[38;5;124;03mAsyncResults.get from multiprocessing.\"\"\"\u001b[39;00m\n\u001b[0;32m    541\u001b[0m \u001b[38;5;28;01mtry\u001b[39;00m:\n\u001b[1;32m--> 542\u001b[0m     \u001b[38;5;28;01mreturn\u001b[39;00m \u001b[43mfuture\u001b[49m\u001b[38;5;241;43m.\u001b[39;49m\u001b[43mresult\u001b[49m\u001b[43m(\u001b[49m\u001b[43mtimeout\u001b[49m\u001b[38;5;241;43m=\u001b[39;49m\u001b[43mtimeout\u001b[49m\u001b[43m)\u001b[49m\n\u001b[0;32m    543\u001b[0m \u001b[38;5;28;01mexcept\u001b[39;00m CfTimeoutError \u001b[38;5;28;01mas\u001b[39;00m e:\n\u001b[0;32m    544\u001b[0m     \u001b[38;5;28;01mraise\u001b[39;00m \u001b[38;5;167;01mTimeoutError\u001b[39;00m \u001b[38;5;28;01mfrom\u001b[39;00m \u001b[38;5;21;01me\u001b[39;00m\n",
      "File \u001b[1;32m~\\anaconda3\\lib\\concurrent\\futures\\_base.py:445\u001b[0m, in \u001b[0;36mFuture.result\u001b[1;34m(self, timeout)\u001b[0m\n\u001b[0;32m    443\u001b[0m     \u001b[38;5;28;01mraise\u001b[39;00m CancelledError()\n\u001b[0;32m    444\u001b[0m \u001b[38;5;28;01melif\u001b[39;00m \u001b[38;5;28mself\u001b[39m\u001b[38;5;241m.\u001b[39m_state \u001b[38;5;241m==\u001b[39m FINISHED:\n\u001b[1;32m--> 445\u001b[0m     \u001b[38;5;28;01mreturn\u001b[39;00m \u001b[38;5;28;43mself\u001b[39;49m\u001b[38;5;241;43m.\u001b[39;49m\u001b[43m__get_result\u001b[49m\u001b[43m(\u001b[49m\u001b[43m)\u001b[49m\n\u001b[0;32m    446\u001b[0m \u001b[38;5;28;01melse\u001b[39;00m:\n\u001b[0;32m    447\u001b[0m     \u001b[38;5;28;01mraise\u001b[39;00m \u001b[38;5;167;01mTimeoutError\u001b[39;00m()\n",
      "File \u001b[1;32m~\\anaconda3\\lib\\concurrent\\futures\\_base.py:390\u001b[0m, in \u001b[0;36mFuture.__get_result\u001b[1;34m(self)\u001b[0m\n\u001b[0;32m    388\u001b[0m \u001b[38;5;28;01mif\u001b[39;00m \u001b[38;5;28mself\u001b[39m\u001b[38;5;241m.\u001b[39m_exception:\n\u001b[0;32m    389\u001b[0m     \u001b[38;5;28;01mtry\u001b[39;00m:\n\u001b[1;32m--> 390\u001b[0m         \u001b[38;5;28;01mraise\u001b[39;00m \u001b[38;5;28mself\u001b[39m\u001b[38;5;241m.\u001b[39m_exception\n\u001b[0;32m    391\u001b[0m     \u001b[38;5;28;01mfinally\u001b[39;00m:\n\u001b[0;32m    392\u001b[0m         \u001b[38;5;66;03m# Break a reference cycle with the exception in self._exception\u001b[39;00m\n\u001b[0;32m    393\u001b[0m         \u001b[38;5;28mself\u001b[39m \u001b[38;5;241m=\u001b[39m \u001b[38;5;28;01mNone\u001b[39;00m\n",
      "\u001b[1;31mMemoryError\u001b[0m: could not allocate 963379200 bytes"
     ]
    }
   ],
   "source": [
    "import parfit as pf\n",
    "from sklearn.model_selection import ParameterGrid\n",
    "from sklearn.ensemble import RandomForestClassifier\n",
    "from sklearn.metrics import roc_auc_score\n",
    "paramGrid = ParameterGrid({\n",
    "    'min_samples_leaf': [1,3,5,10,15,25,50,100,125,150,175,200],\n",
    "    'max_features': ['sqrt', 'log2', 0.4, 0.5, 0.6, 0.7],\n",
    "    'n_estimators': [60],\n",
    "    'n_jobs': [-1],\n",
    "    'random_state': [42]\n",
    "})\n",
    "best_model, best_score, all_models, all_scores = pf.bestFit(RandomForestClassifier, paramGrid, \n",
    "     X_train, y_train, X_test, y_test, \n",
    "     metric=roc_auc_score, scoreLabel='AUC')\n",
    "print(best_model)"
   ]
  },
  {
   "cell_type": "markdown",
   "id": "7e67b40d",
   "metadata": {},
   "source": [
    "# Models Review"
   ]
  },
  {
   "cell_type": "markdown",
   "id": "f63a61b0",
   "metadata": {},
   "source": [
    "<u>Note:</u> This part will be in-between theory and practice </br>\n",
    "For each model we will review:\n",
    "- Very brief recap on statistical concepts\n",
    "- When to use it\n",
    "- Model's assumptions (normal distribution, numerical variables only etc.)\n",
    "- Parameters for the Grid Search ([here](#https://topepo.github.io/caret/available-models.html) a comprehensive summary of hyperparameter tuning for each model)\n",
    "- Practical Application\n",
    "\n",
    "\n",
    "⚠️ For the rest of the notebook we will generate dataset with numpy or sklearn"
   ]
  },
  {
   "cell_type": "markdown",
   "id": "6813f893",
   "metadata": {},
   "source": [
    "**Reminder:**\n",
    "- <u>Regression:</u> predict a continuous value (ex: predicted ROI is 1802 USD) \n",
    "- <u>Classification:</u> predict a class \n",
    "    - Binary: breast cancer YES/NO\n",
    "    - Multiclass: Cover Type: 1, 2, 3, 4\n",
    "    - Multilabel: each instance can be assigned to multiple class (ex: Alber is in the man category but also in the artist category etc.)\n",
    "\n",
    "However, you will see that some regression models are used for classification and vice versa. We are just using the mathematical classification here"
   ]
  },
  {
   "cell_type": "markdown",
   "id": "a68f5d64",
   "metadata": {},
   "source": [
    "## Regression Models"
   ]
  },
  {
   "cell_type": "markdown",
   "id": "3f5971b8",
   "metadata": {},
   "source": [
    "### Vanilla (standard) Linear Regression"
   ]
  },
  {
   "cell_type": "markdown",
   "id": "ae563741",
   "metadata": {},
   "source": [
    "**Theory**"
   ]
  },
  {
   "cell_type": "markdown",
   "id": "3bc8cf91",
   "metadata": {},
   "source": [
    "$\\hat{y} = θ_0 + θ_1x_1 + θ_2x_2 + ⋯ + θ_nx_n$ </br>\n",
    "- ŷ is the predicted value.\n",
    "- n is the number of features.\n",
    "- $x_i$ is the $i^{th}$ feature value.\n",
    "• $θ_j$ is the $j^{th}$ model parameter (including the bias term $θ_0$ and the feature weights $θ_1, θ_2, ⋯, θ_n$)."
   ]
  },
  {
   "cell_type": "code",
   "execution_count": 5,
   "id": "f3c75039",
   "metadata": {},
   "outputs": [],
   "source": [
    "#Generate the dataset\n",
    "X = 2 * np.random.rand(50, 1)\n",
    "y = 2 + 3 * X + np.random.randn(50, 1)"
   ]
  },
  {
   "cell_type": "markdown",
   "id": "c06fcf2a",
   "metadata": {},
   "source": [
    "**When to use it?**"
   ]
  },
  {
   "cell_type": "markdown",
   "id": "582683ac",
   "metadata": {},
   "source": [
    "- regression problem, if you see that scatter plots could more or less fit in a straight line"
   ]
  },
  {
   "cell_type": "code",
   "execution_count": 71,
   "id": "0d63f897",
   "metadata": {
    "scrolled": true,
    "tags": []
   },
   "outputs": [
    {
     "data": {
      "image/png": "[encoded data removed]",
      "text/plain": [
       "<Figure size 640x480 with 1 Axes>"
      ]
     },
     "metadata": {},
     "output_type": "display_data"
    }
   ],
   "source": [
    "import matplotlib.pyplot as plt\n",
    "import numpy as np\n",
    "from sklearn.linear_model import LinearRegression\n",
    "from sklearn.metrics import mean_squared_error, r2_score\n",
    "\n",
    "\n",
    "# Create linear regression object\n",
    "regr = LinearRegression()\n",
    "\n",
    "# Train the model\n",
    "regr.fit(X, y)\n",
    "\n",
    "# Make predictions using the testing set\n",
    "y_pred = regr.predict(X)\n",
    "\n",
    "# Plot outputs\n",
    "plt.scatter(X, y, color=\"black\")\n",
    "plt.plot(X, y_pred, color=\"blue\", linewidth=3)\n",
    "\n",
    "plt.xticks(())\n",
    "plt.yticks(())\n",
    "\n",
    "plt.show()"
   ]
  },
  {
   "cell_type": "markdown",
   "id": "74184fbe",
   "metadata": {},
   "source": [
    "**Assumptions**\n",
    "- Linear relationship\n",
    "- Multivariate normality\n",
    "- No or little multicollinearity\n",
    "- No auto-correlation\n",
    "- Homoscedasticity (same variance)"
   ]
  },
  {
   "cell_type": "markdown",
   "id": "0180e169",
   "metadata": {},
   "source": [
    "**Parameters**</br>\n",
    "*None*"
   ]
  },
  {
   "cell_type": "markdown",
   "id": "05630f43",
   "metadata": {},
   "source": [
    "### Gradient Descent"
   ]
  },
  {
   "cell_type": "markdown",
   "id": "d161e026-321b-4c9d-a6ba-c1410e6ca872",
   "metadata": {},
   "source": [
    "❗ Can also be used for classification problems with [SDG Classifier](#https://scikit-learn.org/stable/modules/generated/sklearn.linear_model.SGDClassifier.html) "
   ]
  },
  {
   "cell_type": "markdown",
   "id": "ef81b22a-c7d8-4e45-b65f-38a569d6266a",
   "metadata": {},
   "source": [
    "**Documentation:** https://scikit-learn.org/stable/modules/generated/sklearn.linear_model.SGDRegressor.html"
   ]
  },
  {
   "cell_type": "markdown",
   "id": "97652d35",
   "metadata": {},
   "source": [
    "**Theory**"
   ]
  },
  {
   "cell_type": "markdown",
   "id": "93cda64d",
   "metadata": {},
   "source": [
    "**To go further:** https://towardsdatascience.com/everything-you-need-to-know-about-gradient-descent-b1d9edfce0b5 </br>\n",
    "Gradient descent is an optimization algorithm that tweaks parameters $\\theta$ iteratively at a certain learning rat in order to minimize the cost function. </br> \n",
    "Below, you can see visually how it works (w = $\\theta$)<img src=\"data:image/png;base64,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\"> </br>\n",
    "If you take the vanilla linear regression equation, $\\hat{y} = θ_0 + θ_1x_1 + θ_2x_2 + ⋯ + θ_nx_n$,  gradient descent will tweak the parameters $θ_0, θ_1, θ_2, ⋯ , θ_nx_n$ to minimize the cost function (the margin error of your prediction)  <img src='https://blog-c7ff.kxcdn.com/blog/wp-content/uploads/2016/11/gd_python.png' width=300></br>\n",
    "On sklearn you will find the SDGRegressor (Sochastic Gradient Descent) which is a more computationally  efficient (faster and more scalable) way to perform gradient descent \n"
   ]
  },
  {
   "cell_type": "markdown",
   "id": "da76895d",
   "metadata": {},
   "source": [
    "**When to use it?** </br>\n",
    "- Only with data that poses a [convex-optimization problem](#http://www.cs.ubc.ca/labs/lci/mlrg/slides/non_convex_optimization.pdf) <img src=\"https://miro.medium.com/max/1100/1*5q6hqLS11phsiIqgnif-BQ.webp\" width=350>\n",
    "- well suited for regression problems with a large number of training samples (> 10.000), for other problems we recommend Ridge, Lasso, or ElasticNet"
   ]
  },
  {
   "cell_type": "markdown",
   "id": "42cec6b2",
   "metadata": {},
   "source": [
    "**Assumption:** convex optimization problem"
   ]
  },
  {
   "cell_type": "markdown",
   "id": "047056cb",
   "metadata": {},
   "source": [
    "**Important Parameters:** \n",
    "- `alpha`: 10.0 ** -np.arange(1, 7), (for tunning)\n",
    "- `loss`: 'squared_loss', 'huber', 'epsilon_insensitive'\n",
    "- `penalty`: 'l2', 'l1', 'elasticnet'\n",
    "- `learning_rate`: 'constant', 'optimal', 'invscaling'\n",
    "}"
   ]
  },
  {
   "cell_type": "markdown",
   "id": "7c5b4456",
   "metadata": {},
   "source": [
    "**Application**"
   ]
  },
  {
   "cell_type": "code",
   "execution_count": 7,
   "id": "8473c358",
   "metadata": {},
   "outputs": [
    {
     "name": "stdout",
     "output_type": "stream",
     "text": [
      "Best score: -1.7992407590262545\n"
     ]
    }
   ],
   "source": [
    "from sklearn.model_selection import GridSearchCV\n",
    "from sklearn.linear_model import SGDRegressor\n",
    "from sklearn.pipeline import make_pipeline\n",
    "from sklearn.preprocessing import StandardScaler\n",
    "\n",
    "#Generate the dataset \n",
    "n_samples, n_features = 10, 5\n",
    "rng = np.random.RandomState(0)\n",
    "y = rng.randn(n_samples)\n",
    "X = rng.randn(n_samples, n_features)\n",
    "\n",
    "# Scale the data to be between -1 and 1\n",
    "scaler = StandardScaler()\n",
    "scaler.fit(X)\n",
    "X = scaler.transform(X)\n",
    "\n",
    "#Define Model\n",
    "model = SGDRegressor()\n",
    "\n",
    "#Parameters for grid search\n",
    "param_grid = {\n",
    "    'alpha': 10.0 ** -np.arange(1, 7), #10^-7, 10-6,..., 10^-1\n",
    "    'loss': ['squared_loss', 'huber', 'epsilon_insensitive'],\n",
    "    'penalty': ['l2', 'l1', 'elasticnet'],\n",
    "    'learning_rate': ['constant', 'optimal', 'invscaling'],\n",
    "}\n",
    "clf = GridSearchCV(model, param_grid)\n",
    "clf.fit(X, y)\n",
    "print(\"Best score: \" + str(clf.best_score_))"
   ]
  },
  {
   "cell_type": "markdown",
   "id": "8e1c73cc",
   "metadata": {},
   "source": [
    "### Polynomial Regression"
   ]
  },
  {
   "cell_type": "markdown",
   "id": "9608bf64",
   "metadata": {},
   "source": [
    "**Theory** </br>\n",
    "<img src=\"https://slideplayer.com/slide/13398262/80/images/3/Polynomial+Function+in+General+Form.jpg\" width = 350>"
   ]
  },
  {
   "cell_type": "markdown",
   "id": "d68f5147",
   "metadata": {},
   "source": [
    "**When to use it?** </br>\n",
    "Guess looking at the scatter plot <img src=\"https://www.researchgate.net/publication/336436894/figure/fig2/AS:961776833282052@1606316874910/Polynomial-functions-of-degrees-starting-from-0-through-5.ppm\" width = 350>"
   ]
  },
  {
   "cell_type": "markdown",
   "id": "dadb8eec",
   "metadata": {},
   "source": [
    "**Assumptions**: same as linear regression"
   ]
  },
  {
   "cell_type": "markdown",
   "id": "4f6237b9",
   "metadata": {},
   "source": [
    "**Parameters** `degree`"
   ]
  },
  {
   "cell_type": "markdown",
   "id": "25509dd4",
   "metadata": {},
   "source": [
    "**Application** "
   ]
  },
  {
   "cell_type": "code",
   "execution_count": 12,
   "id": "10579252",
   "metadata": {},
   "outputs": [
    {
     "data": {
      "text/plain": [
       "array([0.50291059])"
      ]
     },
     "execution_count": 12,
     "metadata": {},
     "output_type": "execute_result"
    }
   ],
   "source": [
    "lin_reg.coef_[:,1]"
   ]
  },
  {
   "cell_type": "code",
   "execution_count": 13,
   "id": "fe39d2d8",
   "metadata": {
    "scrolled": true
   },
   "outputs": [
    {
     "name": "stdout",
     "output_type": "stream",
     "text": [
      "y-intercept is [2.23841873]\n",
      "coeff for x^2 [0.43334892]\n",
      "coeff for x [0.96792485]\n"
     ]
    }
   ],
   "source": [
    "from sklearn.preprocessing import PolynomialFeatures\n",
    "from sklearn.linear_model import LinearRegression\n",
    "\n",
    "#Generat dataset\n",
    "m = 100\n",
    "X = 6 * np.random.rand(m, 1) - 3\n",
    "y = 0.5 * X**2 + X + 2 + np.random.randn(m, 1)\n",
    "\n",
    "#Transform features into polynomial features\n",
    "poly_features = PolynomialFeatures(degree=2, include_bias=False)\n",
    "X_poly = poly_features.fit_transform(X)\n",
    "\n",
    "#Perform linear regression on the new features\n",
    "lin_reg = LinearRegression()\n",
    "lin_reg.fit(X_poly, y)\n",
    "print(\"y-intercept is\", lin_reg.intercept_)\n",
    "print(\"coeff for x^2\", lin_reg.coef_[:,1])\n",
    "print(\"coeff for x\", lin_reg.coef_[:,0])"
   ]
  },
  {
   "cell_type": "markdown",
   "id": "ac7bc84a",
   "metadata": {},
   "source": [
    "You can plot the learning curve to see whether you need more data to improve your algorithm"
   ]
  },
  {
   "cell_type": "code",
   "execution_count": 16,
   "id": "70c5fc64",
   "metadata": {
    "scrolled": true
   },
   "outputs": [
    {
     "data": {
      "image/png": "[encoded data removed]",
      "text/plain": [
       "<Figure size 640x480 with 1 Axes>"
      ]
     },
     "metadata": {},
     "output_type": "display_data"
    }
   ],
   "source": [
    "from sklearn.metrics import mean_squared_error\n",
    "from sklearn.model_selection import train_test_split\n",
    "\n",
    "def plot_learning_curves(model, X, y):\n",
    "    X_train, X_val, y_train, y_val = train_test_split(X, y, test_size=0.2)\n",
    "    train_errors, val_errors = [], []\n",
    "    for m in range(1, len(X_train)):\n",
    "        model.fit(X_train[:m], y_train[:m])\n",
    "        y_train_predict = model.predict(X_train[:m])\n",
    "        y_val_predict = model.predict(X_val)\n",
    "        train_errors.append(mean_squared_error(y_train_predict, y_train[:m]))\n",
    "        val_errors.append(mean_squared_error(y_val_predict, y_val))\n",
    "    plt.plot(np.sqrt(train_errors), \"r-+\", linewidth=2, label=\"train\")\n",
    "    plt.plot(np.sqrt(val_errors), \"b-\", linewidth=3, label=\"val\")\n",
    "    \n",
    "lin_reg = LinearRegression()\n",
    "plot_learning_curves(lin_reg, X, y)"
   ]
  },
  {
   "cell_type": "markdown",
   "id": "edace3f6",
   "metadata": {},
   "source": [
    "### Regularized Linear Models"
   ]
  },
  {
   "cell_type": "markdown",
   "id": "b2cae6c9",
   "metadata": {},
   "source": [
    "Regularization in a nutshell:\n",
    "- reduce bias/underfitting \n",
    "- increase variance/overfitting\n",
    "\n",
    "We will review 3 models:\n",
    "- Ridge\n",
    "- Lasso\n",
    "- Elastic Net\n",
    "\n",
    "Linear regression, ridge, lasso or elastic net?\n",
    "- Almost always preferable to have at least a bit of regularization so you should avoid plain linear regression\n",
    "- Ridge is a good default\n",
    "- Lasso/Elastic net(mix of Lasso and Ridge): if you suspect that only few features are actually useful \n",
    "\n",
    "**Important Parameter:** \n",
    "`solver` = 'svd', 'cholesky', 'lsqr', 'sag'\n",
    "`'alpha` = 1e-5, 1e-4, 1e-3, 1e-2, 1e-1, 1, 10, 100\n",
    "`fit_intercept` = True, False\n",
    "`'normalize` = True, False"
   ]
  },
  {
   "cell_type": "code",
   "execution_count": 7,
   "id": "cd95310f-1989-4951-bf71-7c9f02ef41c2",
   "metadata": {},
   "outputs": [
    {
     "name": "stdout",
     "output_type": "stream",
     "text": [
      "Best Score: -29.015671926507366\n",
      "Best Hyperparameters: {'alpha': 1.1183369286692078, 'fit_intercept': True, 'normalize': False, 'solver': 'sag'}\n"
     ]
    }
   ],
   "source": [
    "# random search linear regression model on the auto insurance dataset\n",
    "from scipy.stats import loguniform\n",
    "from pandas import read_csv\n",
    "from sklearn.linear_model import Ridge\n",
    "from sklearn.model_selection import RepeatedKFold\n",
    "from sklearn.model_selection import RandomizedSearchCV\n",
    "# load dataset\n",
    "url = 'https://raw.githubusercontent.com/jbrownlee/Datasets/master/auto-insurance.csv'\n",
    "dataframe = read_csv(url, header=None)\n",
    "# split into input and output elements\n",
    "data = dataframe.values\n",
    "X, y = data[:, :-1], data[:, -1]\n",
    "# define model\n",
    "model = Ridge()\n",
    "# define evaluation\n",
    "cv = RepeatedKFold(n_splits=10, n_repeats=3, random_state=1)\n",
    "# define search space\n",
    "space = dict()\n",
    "space['solver'] = ['svd', 'cholesky', 'lsqr', 'sag']\n",
    "space['alpha'] = loguniform(1e-5, 100)\n",
    "space['fit_intercept'] = [True, False]\n",
    "space['normalize'] = [True, False]\n",
    "# define search\n",
    "search = RandomizedSearchCV(model, space, n_iter=500, scoring='neg_mean_absolute_error', n_jobs=-1, cv=cv, random_state=1)\n",
    "# execute search\n",
    "result = search.fit(X, y)\n",
    "# summarize result\n",
    "print('Best Score: %s' % result.best_score_)\n",
    "print('Best Hyperparameters: %s' % result.best_params_)"
   ]
  },
  {
   "cell_type": "markdown",
   "id": "30d76b10",
   "metadata": {},
   "source": [
    "#### Ridge Regression"
   ]
  },
  {
   "cell_type": "code",
   "execution_count": 17,
   "id": "7fbe2548",
   "metadata": {},
   "outputs": [
    {
     "data": {
      "text/plain": [
       "array([[5.00078736]])"
      ]
     },
     "execution_count": 17,
     "metadata": {},
     "output_type": "execute_result"
    }
   ],
   "source": [
    "from sklearn.linear_model import Ridge\n",
    "ridge_reg = Ridge(alpha=1, solver=\"cholesky\")\n",
    "ridge_reg.fit(X, y)\n",
    "ridge_reg.predict([[1.5]])"
   ]
  },
  {
   "cell_type": "markdown",
   "id": "7acb2123",
   "metadata": {},
   "source": [
    "#### Lasso"
   ]
  },
  {
   "cell_type": "code",
   "execution_count": 18,
   "id": "ca0219f5",
   "metadata": {},
   "outputs": [
    {
     "data": {
      "text/plain": [
       "array([4.95774524])"
      ]
     },
     "execution_count": 18,
     "metadata": {},
     "output_type": "execute_result"
    }
   ],
   "source": [
    "from sklearn.linear_model import Lasso\n",
    "lasso_reg = Lasso(alpha=0.1)\n",
    "lasso_reg.fit(X, y)\n",
    "lasso_reg.predict([[1.5]])"
   ]
  },
  {
   "cell_type": "markdown",
   "id": "bfae9d47",
   "metadata": {},
   "source": [
    "#### Elastic Net"
   ]
  },
  {
   "cell_type": "code",
   "execution_count": 19,
   "id": "26f9a2d2",
   "metadata": {
    "scrolled": true
   },
   "outputs": [
    {
     "data": {
      "text/plain": [
       "array([4.95955089])"
      ]
     },
     "execution_count": 19,
     "metadata": {},
     "output_type": "execute_result"
    }
   ],
   "source": [
    "from sklearn.linear_model import ElasticNet\n",
    "elastic_net = ElasticNet(alpha=0.1, l1_ratio=0.5)\n",
    "elastic_net.fit(X, y)\n",
    "elastic_net.predict([[1.5]])"
   ]
  },
  {
   "cell_type": "markdown",
   "id": "53b35aa3-5a32-4195-a7a6-4cc9a369d457",
   "metadata": {},
   "source": [
    "###"
   ]
  },
  {
   "cell_type": "markdown",
   "id": "8ea691ba",
   "metadata": {},
   "source": [
    "### Logistic Regression"
   ]
  },
  {
   "cell_type": "markdown",
   "id": "fea7ea4f-829d-41dd-91a2-91b9fe5f5a47",
   "metadata": {},
   "source": [
    "**Documentation:** https://scikit-learn.org/stable/modules/generated/sklearn.linear_model.LogisticRegression.html"
   ]
  },
  {
   "cell_type": "markdown",
   "id": "cb7b0b7f-1f76-42e7-aa46-d3e7ac006e84",
   "metadata": {},
   "source": [
    "**Theory** </br>\n",
    "*vectorized form* $\\hat{p}=h_{\\theta}(x) = \\sigma (\\theta^T*x)$ </br>\n",
    "*Equation* $\\sigma(t)=\\frac{1}{1+exp(-t)}$ </br>\n",
    "<img src=\"https://static.javatpoint.com/tutorial/machine-learning/images/logistic-regression-in-machine-learning.png\"> </br>\n",
    "- if $\\sigma(t)<0.5$ then the prediction is 0\n",
    "- if $\\sigma(t)>=0.5$ then the prediction is 1"
   ]
  },
  {
   "cell_type": "markdown",
   "id": "3b50e92e-84a5-4bd8-b977-10adbb340999",
   "metadata": {},
   "source": [
    "**When to use it?** </br>\n",
    "- Binary classification problem (does not perform well in multiclassification problems)\n",
    "- Fast (perfect for a baseline)"
   ]
  },
  {
   "cell_type": "markdown",
   "id": "0507ab0c-7d8e-4af3-b4b2-fcdf3e8701b0",
   "metadata": {},
   "source": [
    "**Assumptions** </br>\n",
    "- independence of errors\n",
    "- linearity in the logit for continuous variables\n",
    "- absence of multicollinearity\n",
    "- lack of strongly influential outliers"
   ]
  },
  {
   "cell_type": "markdown",
   "id": "9ba89ed2-335e-4941-8104-52e494b68295",
   "metadata": {},
   "source": [
    "<font color=green>Pros:\n",
    "- <font color=green>Convenient probability scores\n",
    "- <font color=green>Efficient implementations available\n",
    "- <font color=green>Widespread industry comfort for logistic regression solutions </font>\n",
    "<font color=red>Cons:\n",
    "- <font color=red>Doesn’t perform well when feature space is too large\n",
    "- <font color=red>Doesn’t handle large number of categorical features/variables well\n",
    "- <font color=red>Relies on transformations for non linear features </font>"
   ]
  },
  {
   "cell_type": "markdown",
   "id": "856efcd6-c8d2-4574-a773-fd7c92580205",
   "metadata": {},
   "source": [
    "**Hyperparameters Tunning**\n",
    "- `penalty`: to add a regularization\n",
    "    - `none`: no penalty is added;\n",
    "    - `l2`: add a L2 penalty term and it is the default choice;\n",
    "    - `l1`: add a L1 penalty term;\n",
    "    - `elasticnet`: both L1 and L2 penalty terms are added.\n",
    "- `solver`: ‘newton-cg’, ‘lbfgs’, ‘liblinear’, ‘sag’, ‘saga’\n",
    "- `C`: 1.0, 0.1, 0.01 \n",
    "    - close to 1 -> light pernalty\n",
    "    - close to 0 -> strong penalty"
   ]
  },
  {
   "cell_type": "code",
   "execution_count": 6,
   "id": "f714ec37-756e-447b-a99e-db24af97a7c1",
   "metadata": {},
   "outputs": [
    {
     "name": "stdout",
     "output_type": "stream",
     "text": [
      "Best: 0.965333 using {'C': 0.01, 'penalty': 'l2', 'solver': 'newton-cg'}\n",
      "0.958000 (0.017776) with: {'C': 100, 'penalty': 'l2', 'solver': 'newton-cg'}\n",
      "0.958667 (0.018209) with: {'C': 100, 'penalty': 'l2', 'solver': 'lbfgs'}\n",
      "0.958333 (0.019847) with: {'C': 100, 'penalty': 'l2', 'solver': 'liblinear'}\n",
      "0.958667 (0.017269) with: {'C': 10, 'penalty': 'l2', 'solver': 'newton-cg'}\n",
      "0.958667 (0.018927) with: {'C': 10, 'penalty': 'l2', 'solver': 'lbfgs'}\n",
      "0.958667 (0.019788) with: {'C': 10, 'penalty': 'l2', 'solver': 'liblinear'}\n",
      "0.959333 (0.017499) with: {'C': 1.0, 'penalty': 'l2', 'solver': 'newton-cg'}\n",
      "0.959333 (0.017499) with: {'C': 1.0, 'penalty': 'l2', 'solver': 'lbfgs'}\n",
      "0.959667 (0.018883) with: {'C': 1.0, 'penalty': 'l2', 'solver': 'liblinear'}\n",
      "0.960000 (0.017321) with: {'C': 0.1, 'penalty': 'l2', 'solver': 'newton-cg'}\n",
      "0.960000 (0.017321) with: {'C': 0.1, 'penalty': 'l2', 'solver': 'lbfgs'}\n",
      "0.961333 (0.017269) with: {'C': 0.1, 'penalty': 'l2', 'solver': 'liblinear'}\n",
      "0.965333 (0.015861) with: {'C': 0.01, 'penalty': 'l2', 'solver': 'newton-cg'}\n",
      "0.965333 (0.015861) with: {'C': 0.01, 'penalty': 'l2', 'solver': 'lbfgs'}\n",
      "0.965333 (0.015434) with: {'C': 0.01, 'penalty': 'l2', 'solver': 'liblinear'}\n"
     ]
    }
   ],
   "source": [
    "# example of grid searching key hyperparametres for logistic regression\n",
    "from sklearn.datasets import make_blobs\n",
    "from sklearn.model_selection import RepeatedStratifiedKFold\n",
    "from sklearn.model_selection import GridSearchCV\n",
    "from sklearn.linear_model import LogisticRegression\n",
    "# define dataset\n",
    "X, y = make_blobs(n_samples=1000, centers=2, n_features=100, cluster_std=20)\n",
    "# define models and parameters\n",
    "model = LogisticRegression()\n",
    "solvers = ['newton-cg', 'lbfgs', 'liblinear']\n",
    "penalty = ['l2']\n",
    "c_values = [100, 10, 1.0, 0.1, 0.01]\n",
    "# define grid search\n",
    "grid = dict(solver=solvers,penalty=penalty,C=c_values)\n",
    "cv = RepeatedStratifiedKFold(n_splits=10, n_repeats=3, random_state=1)\n",
    "grid_search = GridSearchCV(estimator=model, param_grid=grid, n_jobs=-1, cv=cv, scoring='accuracy',error_score=0)\n",
    "grid_result = grid_search.fit(X, y)\n",
    "# summarize results\n",
    "print(\"Best: %f using %s\" % (grid_result.best_score_, grid_result.best_params_))\n",
    "means = grid_result.cv_results_['mean_test_score']\n",
    "stds = grid_result.cv_results_['std_test_score']\n",
    "params = grid_result.cv_results_['params']\n",
    "for mean, stdev, param in zip(means, stds, params):\n",
    "    print(\"%f (%f) with: %r\" % (mean, stdev, param))"
   ]
  },
  {
   "cell_type": "markdown",
   "id": "f91ac462-7e2e-4c09-ab7e-6fbbc517dd8b",
   "metadata": {},
   "source": [
    "### Softmax or Multinomial Logistic Regression"
   ]
  },
  {
   "cell_type": "markdown",
   "id": "e0f538ee-f64e-4cc7-9574-2025e4229b9a",
   "metadata": {},
   "source": [
    "**Theory:** </br>\n",
    "$\\hat{P}_k = \\sigma(s(x))_k = \\frac{exp(s_k(x))}{ \\sum_{j=1}^{K} exp(s_j(x))}$</br>\n",
    "In a nutshell, the model compute the logistic regression score for each class and choose the class with the highest score"
   ]
  },
  {
   "cell_type": "markdown",
   "id": "b4fc25e8-ff47-43a1-854b-978aa8ca5345",
   "metadata": {},
   "source": [
    "**When to use it?** </br>\n",
    "- Multiclassification problems\n",
    "- Fast (perfect for a baseline)"
   ]
  },
  {
   "cell_type": "markdown",
   "id": "5ed11389-e2fa-4044-8c1e-3e1cfdec2fdc",
   "metadata": {},
   "source": [
    "**Hyperparameters Tunning**\n",
    "- `penalty`: to add a regularization\n",
    "    - `none`: no penalty is added;\n",
    "    - `l2`: add a L2 penalty term and it is the default choice;\n",
    "    - `l1`: add a L1 penalty term;\n",
    "    - `elasticnet`: both L1 and L2 penalty terms are added.\n",
    "- `solver`: ‘newton-cg’, ‘lbfgs’, ‘liblinear’, ‘sag’, ‘saga’\n",
    "- `C`: 1.0, 0.1, 0.01 \n",
    "    - close to 1 -> light pernalty\n",
    "    - close to 0 -> strong penalty"
   ]
  },
  {
   "cell_type": "code",
   "execution_count": 8,
   "id": "17ff99d7-08c4-4c64-9fa6-73079cd4d56a",
   "metadata": {},
   "outputs": [
    {
     "name": "stdout",
     "output_type": "stream",
     "text": [
      ">0.0000 0.777 (0.037)\n",
      ">0.0001 0.683 (0.049)\n",
      ">0.0010 0.762 (0.044)\n",
      ">0.0100 0.775 (0.040)\n",
      ">0.1000 0.774 (0.038)\n",
      ">1.0000 0.777 (0.037)\n"
     ]
    },
    {
     "data": {
      "image/png": "[encoded data removed]",
      "text/plain": [
       "<Figure size 640x480 with 1 Axes>"
      ]
     },
     "metadata": {},
     "output_type": "display_data"
    }
   ],
   "source": [
    "# tune regularization for multinomial logistic regression\n",
    "from numpy import mean\n",
    "from numpy import std\n",
    "from sklearn.datasets import make_classification\n",
    "from sklearn.model_selection import cross_val_score\n",
    "from sklearn.model_selection import RepeatedStratifiedKFold\n",
    "from sklearn.linear_model import LogisticRegression\n",
    "from matplotlib import pyplot\n",
    "\n",
    "# get the dataset\n",
    "def get_dataset():\n",
    "\tX, y = make_classification(n_samples=1000, n_features=20, n_informative=15, n_redundant=5, random_state=1, n_classes=3)\n",
    "\treturn X, y\n",
    "\n",
    "# get a list of models to evaluate\n",
    "def get_models():\n",
    "\tmodels = dict()\n",
    "\tfor p in [0.0, 0.0001, 0.001, 0.01, 0.1, 1.0]:\n",
    "\t\t# create name for model\n",
    "\t\tkey = '%.4f' % p\n",
    "\t\t# turn off penalty in some cases\n",
    "\t\tif p == 0.0:\n",
    "\t\t\t# no penalty in this case\n",
    "\t\t\tmodels[key] = LogisticRegression(multi_class='multinomial', solver='lbfgs', penalty='none')\n",
    "\t\telse:\n",
    "\t\t\tmodels[key] = LogisticRegression(multi_class='multinomial', solver='lbfgs', penalty='l2', C=p)\n",
    "\treturn models\n",
    "\n",
    "# evaluate a give model using cross-validation\n",
    "def evaluate_model(model, X, y):\n",
    "\t# define the evaluation procedure\n",
    "\tcv = RepeatedStratifiedKFold(n_splits=10, n_repeats=3, random_state=1)\n",
    "\t# evaluate the model\n",
    "\tscores = cross_val_score(model, X, y, scoring='accuracy', cv=cv, n_jobs=-1)\n",
    "\treturn scores\n",
    "\n",
    "# define dataset\n",
    "X, y = get_dataset()\n",
    "# get the models to evaluate\n",
    "models = get_models()\n",
    "# evaluate the models and store results\n",
    "results, names = list(), list()\n",
    "for name, model in models.items():\n",
    "\t# evaluate the model and collect the scores\n",
    "\tscores = evaluate_model(model, X, y)\n",
    "\t# store the results\n",
    "\tresults.append(scores)\n",
    "\tnames.append(name)\n",
    "\t# summarize progress along the way\n",
    "\tprint('>%s %.3f (%.3f)' % (name, mean(scores), std(scores)))\n",
    "# plot model performance for comparison\n",
    "pyplot.boxplot(results, labels=names, showmeans=True)\n",
    "pyplot.show()"
   ]
  },
  {
   "cell_type": "markdown",
   "id": "d8fff8a5-01a4-404b-9859-9246a6121395",
   "metadata": {},
   "source": [
    "## Support Vector Machines (SVM)"
   ]
  },
  {
   "cell_type": "markdown",
   "id": "fe14bbf4-2dc2-47df-b837-56bf3ede09d8",
   "metadata": {},
   "source": [
    "**Documentation:** https://scikit-learn.org/stable/modules/svm.html"
   ]
  },
  {
   "attachments": {
    "25788abd-24d5-48cd-bcab-0f5197febee3.png": {
     "image/png": "[encoded data removed]"
    },
    "8948c1cf-3720-40d7-a217-941e20cd7872.png": {
     "image/png": "[encoded data removed]"
    },
    "da41504d-b8c9-466d-961b-bc8f91164f32.png": {
     "image/png": "[encoded data removed]"
    },
    "eaf7e569-3504-4dad-ada2-18794263f09d.png": {
     "image/png": "[encoded data removed]"
    }
   },
   "cell_type": "markdown",
   "id": "51edc98c-a386-4c9e-b3c8-962e549db737",
   "metadata": {},
   "source": [
    "**Theory**</br>\n",
    "SVM is versatile, we will show visually how SVM works:\n",
    "- linear classification ![image.png](attachment:eaf7e569-3504-4dad-ada2-18794263f09d.png)\n",
    "- non-linear classification ![image.png](attachment:da41504d-b8c9-466d-961b-bc8f91164f32.png)\n",
    "- linear regression ![image.png](attachment:8948c1cf-3720-40d7-a217-941e20cd7872.png)\n",
    "- non-linear ![image.png](attachment:25788abd-24d5-48cd-bcab-0f5197febee3.png)\n",
    "- outlier detection"
   ]
  },
  {
   "cell_type": "markdown",
   "id": "5349f27f-ea4c-4dc9-a1d4-77af07d16cc5",
   "metadata": {},
   "source": [
    "<font color=\"green\">Pros:\n",
    "- <font color=\"green\">Can handle large feature space\n",
    "- <font color=\"green\">Can handle non linear feature interactions\n",
    "\n",
    "    \n",
    "<font color=\"red\">Cons:\n",
    "- <font color=\"red\">Cons:Not very efficient with large number of observations\n",
    "- <font color=\"red\">Cons:It can be tricky to find appropriate kernel sometimes"
   ]
  },
  {
   "cell_type": "markdown",
   "id": "cd3043c5-1105-40f9-b5c9-8bae604be477",
   "metadata": {},
   "source": [
    "**Requirements**\n",
    "- Scale the data"
   ]
  },
  {
   "cell_type": "markdown",
   "id": "f8b44441-68ae-4e42-b8fd-35c8fdf915f3",
   "metadata": {},
   "source": [
    "**Hyperparameters Tuning**\n",
    "- kernels: ‘linear’, ‘poly’, ‘rbf’, ‘sigmoid’\n",
    "- C: 100, 10, 1.0, 0.1, 0.001"
   ]
  },
  {
   "cell_type": "markdown",
   "id": "44f5d4ca-6f11-43d2-b71e-f284308a2885",
   "metadata": {},
   "source": [
    "**Application**"
   ]
  },
  {
   "cell_type": "code",
   "execution_count": 9,
   "id": "81d7ee60-bb89-42e0-be5d-4005cece7159",
   "metadata": {},
   "outputs": [
    {
     "name": "stdout",
     "output_type": "stream",
     "text": [
      "Best: 0.988333 using {'C': 1.0, 'gamma': 'scale', 'kernel': 'poly'}\n",
      "0.988000 (0.010456) with: {'C': 50, 'gamma': 'scale', 'kernel': 'poly'}\n",
      "0.986000 (0.012543) with: {'C': 50, 'gamma': 'scale', 'kernel': 'rbf'}\n",
      "0.967000 (0.013940) with: {'C': 50, 'gamma': 'scale', 'kernel': 'sigmoid'}\n",
      "0.988000 (0.010456) with: {'C': 10, 'gamma': 'scale', 'kernel': 'poly'}\n",
      "0.986000 (0.012543) with: {'C': 10, 'gamma': 'scale', 'kernel': 'rbf'}\n",
      "0.974667 (0.016479) with: {'C': 10, 'gamma': 'scale', 'kernel': 'sigmoid'}\n",
      "0.988333 (0.009339) with: {'C': 1.0, 'gamma': 'scale', 'kernel': 'poly'}\n",
      "0.988000 (0.011075) with: {'C': 1.0, 'gamma': 'scale', 'kernel': 'rbf'}\n",
      "0.984000 (0.013064) with: {'C': 1.0, 'gamma': 'scale', 'kernel': 'sigmoid'}\n",
      "0.981667 (0.013437) with: {'C': 0.1, 'gamma': 'scale', 'kernel': 'poly'}\n",
      "0.988333 (0.010672) with: {'C': 0.1, 'gamma': 'scale', 'kernel': 'rbf'}\n",
      "0.987000 (0.011590) with: {'C': 0.1, 'gamma': 'scale', 'kernel': 'sigmoid'}\n",
      "0.981667 (0.013437) with: {'C': 0.01, 'gamma': 'scale', 'kernel': 'poly'}\n",
      "0.980667 (0.012632) with: {'C': 0.01, 'gamma': 'scale', 'kernel': 'rbf'}\n",
      "0.985333 (0.010873) with: {'C': 0.01, 'gamma': 'scale', 'kernel': 'sigmoid'}\n"
     ]
    }
   ],
   "source": [
    "# example of grid searching key hyperparametres for SVC\n",
    "from sklearn.datasets import make_blobs\n",
    "from sklearn.model_selection import RepeatedStratifiedKFold\n",
    "from sklearn.model_selection import GridSearchCV\n",
    "from sklearn.svm import SVC\n",
    "# define dataset\n",
    "X, y = make_blobs(n_samples=1000, centers=2, n_features=100, cluster_std=20)\n",
    "# define model and parameters\n",
    "model = SVC()\n",
    "kernel = ['poly', 'rbf', 'sigmoid']\n",
    "C = [50, 10, 1.0, 0.1, 0.01]\n",
    "gamma = ['scale']\n",
    "# define grid search\n",
    "grid = dict(kernel=kernel,C=C,gamma=gamma)\n",
    "cv = RepeatedStratifiedKFold(n_splits=10, n_repeats=3, random_state=1)\n",
    "grid_search = GridSearchCV(estimator=model, param_grid=grid, n_jobs=-1, cv=cv, scoring='accuracy',error_score=0)\n",
    "grid_result = grid_search.fit(X, y)\n",
    "# summarize results\n",
    "print(\"Best: %f using %s\" % (grid_result.best_score_, grid_result.best_params_))\n",
    "means = grid_result.cv_results_['mean_test_score']\n",
    "stds = grid_result.cv_results_['std_test_score']\n",
    "params = grid_result.cv_results_['params']\n",
    "for mean, stdev, param in zip(means, stds, params):\n",
    "    print(\"%f (%f) with: %r\" % (mean, stdev, param))"
   ]
  },
  {
   "cell_type": "markdown",
   "id": "8365676e-d364-4125-a5d2-e35404918ac9",
   "metadata": {
    "tags": []
   },
   "source": [
    "## Tree Based Methods"
   ]
  },
  {
   "cell_type": "markdown",
   "id": "e410ae5c-a390-4c1e-a136-e1c6fe48afeb",
   "metadata": {},
   "source": [
    "**Documentation:** https://scikit-learn.org/stable/modules/ensemble.html"
   ]
  },
  {
   "cell_type": "markdown",
   "id": "1e011f45-470b-48bc-a5b6-9a525b25d2b2",
   "metadata": {},
   "source": [
    "#### Theory"
   ]
  },
  {
   "cell_type": "markdown",
   "id": "cb1690d5-f7f0-4575-8b99-0b44581d2181",
   "metadata": {},
   "source": [
    "**Decision tree regressor** </br>\n",
    "<img src=\"https://upload.wikimedia.org/wikipedia/commons/4/48/DecisionCalcs.jpg\"> </br>\n",
    "**Decision tree classifier** </br>\n",
    "<img src=\"https://media.geeksforgeeks.org/wp-content/cdn-uploads/Decision_Tree-2.png\"> </br>\n",
    "\n",
    "**Random Forests:** \n",
    "- multiple decision trees trained on different subset of predictors in the dataset\n",
    "- the result is the most frequent prediction\n",
    "- increase bias/underfitting but decrease variance/overfitting\n",
    "\n",
    "**Extra Trees:** \n",
    "- *\"When you are growing a tree in a Random Forest, at each node only a random subset of the features is considered for splitting (as discussed earlier). It is possible to make trees even more random by also using random thresholds for each feature rather than searching for the best possible thresholds (like regular Decision Trees do)\"* Geron Aurelien\n",
    "- faster and more computotionally efficient than Random Forest, might or might not be less accurate "
   ]
  },
  {
   "cell_type": "markdown",
   "id": "f9855ab3-1891-4f88-9166-73c80df731b5",
   "metadata": {},
   "source": [
    "<font color=\"green\">Pros:\n",
    "- <font color=\"green\">Intuitive Decision Rules\n",
    "- <font color=\"green\">Can handle non linear features\n",
    "    - <font color=\"green\"> Consider variable interactions \n",
    "    \n",
    "    \n",
    "<font color=\"red\">Cons:\n",
    "- <font color=\"red\">Highly biased to training set for decision tree (Random Forests solve this issue)\n",
    "- <font color=\"red\">No ranking score as direct result"
   ]
  },
  {
   "cell_type": "markdown",
   "id": "e4eb5796-8bad-4ae0-9841-8c124919155b",
   "metadata": {},
   "source": [
    "**Assumptions:** very flexible model!\n",
    "- No formal distributional assumptions\n",
    "- non-parametric and can thus handle \n",
    "    - skewed data\n",
    "    - multi-modal data \n",
    "    - categorical data \n",
    "    - ordinal or non-ordinal data"
   ]
  },
  {
   "cell_type": "markdown",
   "id": "e3de0293-846c-490e-94b6-c12d05eedf13",
   "metadata": {},
   "source": [
    "#### Application"
   ]
  },
  {
   "cell_type": "markdown",
   "id": "a57ff217-559d-49fb-9ab9-40e333682643",
   "metadata": {},
   "source": [
    "**Hyperparameters Tuning**:\n",
    "- `max_feature`: \n",
    "    - number of features at each split point\n",
    "    - You can either:\n",
    "        - try a range of integer values, such as 1 to 20, or 1 to half the number of input features\n",
    "        - try a suite of different default value calculators.\n",
    "- `n_estimators`\n",
    "    - number of trees\n",
    "    - 10, 100, 1000"
   ]
  },
  {
   "cell_type": "code",
   "execution_count": 10,
   "id": "ab226f98-26c7-4a0d-a699-b80b0a80c546",
   "metadata": {},
   "outputs": [
    {
     "name": "stdout",
     "output_type": "stream",
     "text": [
      "Best: 0.971667 using {'max_features': 'log2', 'n_estimators': 1000}\n",
      "0.874667 (0.029747) with: {'max_features': 'sqrt', 'n_estimators': 10}\n",
      "0.956667 (0.018318) with: {'max_features': 'sqrt', 'n_estimators': 100}\n",
      "0.961000 (0.013988) with: {'max_features': 'sqrt', 'n_estimators': 1000}\n",
      "0.845000 (0.039560) with: {'max_features': 'log2', 'n_estimators': 10}\n",
      "0.965000 (0.017464) with: {'max_features': 'log2', 'n_estimators': 100}\n",
      "0.971667 (0.013187) with: {'max_features': 'log2', 'n_estimators': 1000}\n"
     ]
    }
   ],
   "source": [
    "# example of grid searching key hyperparameters for RandomForestClassifier\n",
    "from sklearn.datasets import make_blobs\n",
    "from sklearn.model_selection import RepeatedStratifiedKFold\n",
    "from sklearn.model_selection import GridSearchCV\n",
    "from sklearn.ensemble import RandomForestClassifier\n",
    "# define dataset\n",
    "X, y = make_blobs(n_samples=1000, centers=2, n_features=100, cluster_std=20)\n",
    "# define models and parameters\n",
    "model = RandomForestClassifier()\n",
    "n_estimators = [10, 100, 1000]\n",
    "max_features = ['sqrt', 'log2']\n",
    "# define grid search\n",
    "grid = dict(n_estimators=n_estimators,max_features=max_features)\n",
    "cv = RepeatedStratifiedKFold(n_splits=10, n_repeats=3, random_state=1)\n",
    "grid_search = GridSearchCV(estimator=model, param_grid=grid, n_jobs=-1, cv=cv, scoring='accuracy',error_score=0)\n",
    "grid_result = grid_search.fit(X, y)\n",
    "# summarize results\n",
    "print(\"Best: %f using %s\" % (grid_result.best_score_, grid_result.best_params_))\n",
    "means = grid_result.cv_results_['mean_test_score']\n",
    "stds = grid_result.cv_results_['std_test_score']\n",
    "params = grid_result.cv_results_['params']\n",
    "for mean, stdev, param in zip(means, stds, params):\n",
    "    print(\"%f (%f) with: %r\" % (mean, stdev, param))"
   ]
  },
  {
   "cell_type": "markdown",
   "id": "dac3ecb2-4583-499c-82df-82027ae0eec2",
   "metadata": {},
   "source": [
    "## Ensemble Methods"
   ]
  },
  {
   "cell_type": "markdown",
   "id": "e6fca3d8-b78d-4cbb-872b-a50f73083542",
   "metadata": {},
   "source": [
    "#### Theroy"
   ]
  },
  {
   "attachments": {
    "0abf2071-f5fa-4e98-b4c7-141b19a20429.png": {
     "image/png": "[encoded data removed]"
    }
   },
   "cell_type": "markdown",
   "id": "65064cc6-8c5d-4983-9b04-7d57e6780210",
   "metadata": {},
   "source": [
    "**Voting Classifiers:** </br>\n",
    "<img src=\"https://i.stack.imgur.com/W7UmY.png\"> </br>\n",
    "**Bagging and Pasting:** same training algorithm but on different random subset of the training set (ex: Random Forest)\n",
    "- Bagging: sampling is performed with replacement \n",
    "- Sampling: is performed without replacement </br>\n",
    "\n",
    "**Boosting** train predictor sequentially, each trying to correct its predecessor </br>\n",
    "<img src=\"https://www.researchgate.net/publication/334404567/figure/fig4/AS:862185249071106@1582572390782/Illustrations-of-A-bagging-and-B-boosting-ensemble-algorithms.ppm\"> </br>\n",
    "\n",
    "**Stacking:** average of prediction instead of majority </br>\n",
    "![image.png](attachment:0abf2071-f5fa-4e98-b4c7-141b19a20429.png)\n"
   ]
  },
  {
   "cell_type": "markdown",
   "id": "31a9dd8e-dac6-4870-9027-6e956b2a05c9",
   "metadata": {},
   "source": [
    "#### Boosters Application"
   ]
  },
  {
   "cell_type": "markdown",
   "id": "8c8267cb-3666-4ccf-9fce-8d008f760962",
   "metadata": {},
   "source": [
    "In this part we will use a library called `hyperopt` for Bayesian optimization algorithm"
   ]
  },
  {
   "cell_type": "markdown",
   "id": "3f089c80-2997-4ca3-8213-125850e6c8af",
   "metadata": {},
   "source": [
    "**Comprehensive Example with XgBoost**"
   ]
  },
  {
   "cell_type": "markdown",
   "id": "3afba2b4-3bbc-48cd-86fa-48e87b1d44cc",
   "metadata": {},
   "source": [
    "**Assumption:** encoded integer values for each input variable have an ordinal relationship"
   ]
  },
  {
   "cell_type": "markdown",
   "id": "ae7a3754-3702-4c9f-854c-db895168aef7",
   "metadata": {},
   "source": [
    "**Documentation:** https://xgboost.readthedocs.io/en/latest/parameter.html#general-parameters</br>\n",
    "https://catboost.ai/en/docs/concepts/python-reference_train</br>\n",
    "**Source:** https://towardsdatascience.com/an-example-of-hyperparameter-optimization-on-xgboost-lightgbm-and-catboost-using-hyperopt-12bc41a271e"
   ]
  },
  {
   "cell_type": "markdown",
   "id": "c72a96e5-7bc3-42c5-a4fb-087d306347fd",
   "metadata": {},
   "source": [
    "**Hyperparameters Tuning:** </br>\n",
    "- `eta`\n",
    "    - learning rate (remember gradient boosting)\n",
    "    - range : [0,1]\n",
    "    - Typical final values : 0.01-0.2\n",
    "- `max_depth`: \n",
    "    - used to control over-fitting as higher depth will allow model to learn relations very specific to a particular sample\n",
    "    - Range: [0,∞]\n",
    "    - Typical final values : 3-10\n",
    "- `gamma`: \n",
    "    - minimum loss reduction required to make a split\n",
    "    - Range: [0,∞]\n",
    "    - The larger gamma is, the more conservative the algorithm will be\n",
    "- `reg_alpha` : L2 regularization term on weights\n",
    "- `reg_lambda` : L1 regularization term on weights\n",
    "- `colsample_bytree`:  the subsample ratio of columns when constructing each tree. Subsampling occurs once for every tree constructed\n",
    "- `min_child_weight` : \n",
    "    - defines the minimum sum of weights of all observations required in a child. Used to control overfitting, however too high values lead to undefitting\n",
    "    - range: [0,∞]\n",
    "- `n_estimators`: number of trees\n",
    "- `seed`: random number seed"
   ]
  },
  {
   "cell_type": "markdown",
   "id": "d12330c2-1e65-4a7d-a7b1-27222130ea4f",
   "metadata": {},
   "source": [
    "We will use the `HYPEROPT` library for hyperparmeters tuning"
   ]
  },
  {
   "cell_type": "markdown",
   "id": "303e038b-47c3-400a-b2cb-c61242fb3c6b",
   "metadata": {},
   "source": [
    "*Prepare the data*"
   ]
  },
  {
   "cell_type": "code",
   "execution_count": 13,
   "id": "eac79029-16cf-42ca-8a35-ff8145198530",
   "metadata": {},
   "outputs": [],
   "source": [
    "# import machine learning libraries\n",
    "import xgboost as xgb\n",
    "from sklearn.metrics import accuracy_score\n",
    "\n",
    "\n",
    "# import packages for hyperparameters tuning\n",
    "from hyperopt import STATUS_OK, Trials, fmin, hp, tpe\n",
    "\n",
    "#👀Define path from where you download the data\n",
    "\n",
    "PATH2 = os.path.join(\"datasets\", \"Wholesales\")\n",
    "DATA2 = \"Wholesale customers data.csv\"\n",
    "\n",
    "#Call the function\n",
    "data2 = load_data(PATH2, DATA2)\n",
    "\n",
    "#create a copy\n",
    "df = data2.copy()\n",
    "\n",
    "#Feature and target variable\n",
    "X = df.drop('Channel', axis=1)\n",
    "y = df['Channel']\n",
    "\n",
    "#Convert labels into binary values\n",
    "y[y == 2] = 0\n",
    "y[y == 1] = 1\n",
    "\n",
    "#Split the data\n",
    "from sklearn.model_selection import train_test_split\n",
    "X_train, X_test, y_train, y_test = train_test_split(X, y, test_size = 0.3, random_state = 0)"
   ]
  },
  {
   "cell_type": "markdown",
   "id": "71ac094b-2680-46dd-b0d7-5868c4e00e2b",
   "metadata": {},
   "source": [
    "*Hyperparameters Tuning*"
   ]
  },
  {
   "cell_type": "code",
   "execution_count": 14,
   "id": "366c7948-2d80-417f-b74c-2dca2991a43e",
   "metadata": {},
   "outputs": [
    {
     "name": "stdout",
     "output_type": "stream",
     "text": [
      "SCORE:                                                 \n",
      "0.8560606060606061                                     \n",
      "SCORE:                                                 \n",
      "0.6515151515151515                                                                \n",
      "SCORE:                                                                            \n",
      "0.3484848484848485                                                                \n",
      "SCORE:                                                                            \n",
      "0.3484848484848485                                                                \n",
      "SCORE:                                                                            \n",
      "0.8712121212121212                                                                \n",
      "SCORE:                                                                            \n",
      "0.3484848484848485                                                                \n",
      "SCORE:                                                                            \n",
      "0.8712121212121212                                                                \n",
      "SCORE:                                                                            \n",
      "0.3484848484848485                                                                \n",
      "SCORE:                                                                            \n",
      "0.3484848484848485                                                                \n",
      "SCORE:                                                                            \n",
      "0.3484848484848485                                                                \n",
      "SCORE:                                                                             \n",
      "0.3484848484848485                                                                 \n",
      "SCORE:                                                                             \n",
      "0.3484848484848485                                                                 \n",
      "SCORE:                                                                             \n",
      "0.3484848484848485                                                                 \n",
      "SCORE:                                                                             \n",
      "0.3484848484848485                                                                 \n",
      "SCORE:                                                                             \n",
      "0.8712121212121212                                                                 \n",
      "SCORE:                                                                             \n",
      "0.3484848484848485                                                                 \n",
      "SCORE:                                                                             \n",
      "0.3484848484848485                                                                 \n",
      "SCORE:                                                                             \n",
      "0.3484848484848485                                                                 \n",
      "SCORE:                                                                             \n",
      "0.3484848484848485                                                                 \n",
      "SCORE:                                                                             \n",
      "0.3484848484848485                                                                 \n",
      "SCORE:                                                                             \n",
      "0.6515151515151515                                                                 \n",
      "SCORE:                                                                             \n",
      "0.6515151515151515                                                                 \n",
      "SCORE:                                                                             \n",
      "0.8712121212121212                                                                 \n",
      "SCORE:                                                                             \n",
      "0.8560606060606061                                                                 \n",
      "SCORE:                                                                             \n",
      "0.3484848484848485                                                                 \n",
      "SCORE:                                                                             \n",
      "0.8712121212121212                                                                 \n",
      "SCORE:                                                                             \n",
      "0.6515151515151515                                                                 \n",
      "SCORE:                                                                             \n",
      "0.8712121212121212                                                                 \n",
      "SCORE:                                                                             \n",
      "0.8712121212121212                                                                 \n",
      "SCORE:                                                                             \n",
      "0.3484848484848485                                                                 \n",
      "SCORE:                                                                             \n",
      "0.6515151515151515                                                                 \n",
      "SCORE:                                                                             \n",
      "0.8712121212121212                                                                 \n",
      "SCORE:                                                                             \n",
      "0.8712121212121212                                                                 \n",
      "SCORE:                                                                             \n",
      "0.6515151515151515                                                                 \n",
      "SCORE:                                                                             \n",
      "0.6515151515151515                                                                 \n",
      "SCORE:                                                                             \n",
      "0.3484848484848485                                                                 \n",
      "SCORE:                                                                             \n",
      "0.3484848484848485                                                                 \n",
      "SCORE:                                                                             \n",
      "0.3484848484848485                                                                 \n",
      "SCORE:                                                                             \n",
      "0.3484848484848485                                                                 \n",
      "SCORE:                                                                             \n",
      "0.3484848484848485                                                                 \n",
      "SCORE:                                                                             \n",
      "0.3484848484848485                                                                 \n",
      "SCORE:                                                                             \n",
      "0.3484848484848485                                                                 \n",
      "SCORE:                                                                             \n",
      "0.6515151515151515                                                                 \n",
      "SCORE:                                                                             \n",
      "0.3484848484848485                                                                 \n",
      "SCORE:                                                                             \n",
      "0.3484848484848485                                                                 \n",
      "SCORE:                                                                             \n",
      "0.3484848484848485                                                                 \n",
      "SCORE:                                                                             \n",
      "0.8712121212121212                                                                 \n",
      "SCORE:                                                                             \n",
      "0.8712121212121212                                                                 \n",
      "SCORE:                                                                             \n",
      "0.3484848484848485                                                                 \n",
      "SCORE:                                                                             \n",
      "0.3484848484848485                                                                 \n",
      "SCORE:                                                                             \n",
      "0.3484848484848485                                                                 \n",
      "SCORE:                                                                             \n",
      "0.3484848484848485                                                                 \n",
      "SCORE:                                                                             \n",
      "0.8712121212121212                                                                 \n",
      "SCORE:                                                                             \n",
      "0.3484848484848485                                                                 \n",
      "SCORE:                                                                             \n",
      "0.6515151515151515                                                                 \n",
      "SCORE:                                                                             \n",
      "0.8712121212121212                                                                 \n",
      "SCORE:                                                                             \n",
      "0.6515151515151515                                                                 \n",
      "SCORE:                                                                             \n",
      "0.6515151515151515                                                                 \n",
      "SCORE:                                                                             \n",
      "0.3484848484848485                                                                 \n",
      "SCORE:                                                                             \n",
      "0.3484848484848485                                                                 \n",
      "SCORE:                                                                             \n",
      "0.3484848484848485                                                                 \n",
      "SCORE:                                                                             \n",
      "0.3484848484848485                                                                 \n",
      "SCORE:                                                                             \n",
      "0.8712121212121212                                                                 \n",
      "SCORE:                                                                             \n",
      "0.3484848484848485                                                                 \n",
      "SCORE:                                                                             \n",
      "0.8712121212121212                                                                 \n",
      "SCORE:                                                                             \n",
      "0.6515151515151515                                                                 \n",
      "SCORE:                                                                             \n",
      "0.3484848484848485                                                                 \n",
      "SCORE:                                                                             \n",
      "0.8712121212121212                                                                 \n",
      "SCORE:                                                                             \n",
      "0.3484848484848485                                                                 \n",
      "SCORE:                                                                             \n",
      "0.8712121212121212                                                                 \n",
      "SCORE:                                                                             \n",
      "0.3484848484848485                                                                 \n",
      "SCORE:                                                                             \n",
      "0.6515151515151515                                                                 \n",
      "SCORE:                                                                             \n",
      "0.6515151515151515                                                                 \n",
      "SCORE:                                                                             \n",
      "0.3484848484848485                                                                 \n",
      "SCORE:                                                                             \n",
      "0.3484848484848485                                                                 \n",
      "SCORE:                                                                             \n",
      "0.3484848484848485                                                                 \n",
      "SCORE:                                                                             \n",
      "0.8560606060606061                                                                 \n",
      "SCORE:                                                                             \n",
      "0.6515151515151515                                                                 \n",
      "SCORE:                                                                             \n",
      "0.3484848484848485                                                                 \n",
      "SCORE:                                                                             \n",
      "0.3484848484848485                                                                 \n",
      "SCORE:                                                                             \n",
      "0.8712121212121212                                                                 \n",
      "SCORE:                                                                             \n",
      "0.3484848484848485                                                                 \n",
      "SCORE:                                                                             \n",
      "0.6515151515151515                                                                 \n",
      "SCORE:                                                                             \n",
      "0.8712121212121212                                                                 \n",
      "SCORE:                                                                             \n",
      "0.3484848484848485                                                                 \n",
      "SCORE:                                                                             \n",
      "0.6515151515151515                                                                 \n",
      "SCORE:                                                                             \n",
      "0.3484848484848485                                                                 \n",
      "SCORE:                                                                             \n",
      "0.8712121212121212                                                                 \n",
      "SCORE:                                                                             \n",
      "0.3484848484848485                                                                 \n",
      "SCORE:                                                                             \n",
      "0.8712121212121212                                                                 \n",
      "SCORE:                                                                             \n",
      "0.3484848484848485                                                                 \n",
      "SCORE:                                                                             \n",
      "0.6515151515151515                                                                 \n",
      "SCORE:                                                                             \n",
      "0.8712121212121212                                                                 \n",
      "SCORE:                                                                             \n",
      "0.6515151515151515                                                                 \n",
      "SCORE:                                                                             \n",
      "0.8712121212121212                                                                 \n",
      "SCORE:                                                                             \n",
      "0.3484848484848485                                                                 \n",
      "SCORE:                                                                             \n",
      "0.6515151515151515                                                                 \n",
      "SCORE:                                                                             \n",
      "0.3484848484848485                                                                 \n",
      "SCORE:                                                                             \n",
      "0.8712121212121212                                                                 \n",
      "SCORE:                                                                             \n",
      "0.3484848484848485                                                                 \n",
      "100%|██████████| 100/100 [00:04<00:00, 23.19trial/s, best loss: -0.8712121212121212]\n"
     ]
    }
   ],
   "source": [
    "# 1. Initialize domain space (input values over which we want to search)\n",
    "space={'max_depth': hp.quniform(\"max_depth\", 3, 18, 1),\n",
    "        'gamma': hp.uniform ('gamma', 1,9),\n",
    "        'reg_alpha' : hp.quniform('reg_alpha', 40,180,1),\n",
    "        'reg_lambda' : hp.uniform('reg_lambda', 0,1),\n",
    "        'colsample_bytree' : hp.uniform('colsample_bytree', 0.5,1),\n",
    "        'min_child_weight' : hp.quniform('min_child_weight', 0, 10, 1),\n",
    "        'n_estimators': 180,\n",
    "        'seed': 0\n",
    "    }\n",
    "\n",
    "# 2. Define objective function (evaluation metric and model)\n",
    "def objective(space):\n",
    "    clf=xgb.XGBClassifier(\n",
    "                    n_estimators =space['n_estimators'], max_depth = int(space['max_depth']), gamma = space['gamma'],\n",
    "                    reg_alpha = int(space['reg_alpha']),min_child_weight=int(space['min_child_weight']),\n",
    "                    colsample_bytree=int(space['colsample_bytree']))\n",
    "    \n",
    "    evaluation = [( X_train, y_train), ( X_test, y_test)]\n",
    "    \n",
    "    clf.fit(X_train, y_train,\n",
    "            eval_set=evaluation, eval_metric=\"auc\",\n",
    "            early_stopping_rounds=10,verbose=False)\n",
    "    \n",
    "\n",
    "    pred = clf.predict(X_test)\n",
    "    accuracy = accuracy_score(y_test, pred>0.5)\n",
    "    print (\"SCORE:\", accuracy)\n",
    "    return {'loss': -accuracy, 'status': STATUS_OK }\n",
    "\n",
    "#3 Optimization algorith\n",
    "trials = Trials()\n",
    "\n",
    "best_hyperparams = fmin(fn = objective,\n",
    "                        space = space,\n",
    "                        algo = tpe.suggest,\n",
    "                        max_evals = 100,\n",
    "                        trials = trials)"
   ]
  },
  {
   "cell_type": "code",
   "execution_count": 15,
   "id": "c7202078-4d9b-438f-b996-f793bc5d5fd0",
   "metadata": {},
   "outputs": [
    {
     "name": "stdout",
     "output_type": "stream",
     "text": [
      "The best hyperparameters are :  \n",
      "\n",
      "{'colsample_bytree': 0.8031412140014309, 'gamma': 2.7238882739702612, 'max_depth': 6.0, 'min_child_weight': 8.0, 'reg_alpha': 70.0, 'reg_lambda': 0.011841907823474496}\n"
     ]
    }
   ],
   "source": [
    "#Print results\n",
    "print(\"The best hyperparameters are : \",\"\\n\")\n",
    "print(best_hyperparams)"
   ]
  },
  {
   "cell_type": "markdown",
   "id": "7a714194-bcf1-411a-8556-f5b4d00235b8",
   "metadata": {},
   "source": [
    "**Other Boosters**"
   ]
  },
  {
   "cell_type": "markdown",
   "id": "3934f4c0-68ad-4308-a5eb-4a73046326df",
   "metadata": {},
   "source": [
    "1. Define parameter spaces"
   ]
  },
  {
   "cell_type": "code",
   "execution_count": 16,
   "id": "a4df8a2f-b54d-4c7b-9d4a-ea1a70c25d38",
   "metadata": {},
   "outputs": [],
   "source": [
    "from hyperopt import hp\n",
    "import numpy as np\n",
    "from sklearn.metrics import mean_squared_error\n",
    "\n",
    "\n",
    "# XGB parameters\n",
    "xgb_reg_params = {\n",
    "    'learning_rate':    hp.choice('learning_rate',    np.arange(0.05, 0.31, 0.05)),\n",
    "    'max_depth':        hp.choice('max_depth',        np.arange(5, 16, 1, dtype=int)),\n",
    "    'min_child_weight': hp.choice('min_child_weight', np.arange(1, 8, 1, dtype=int)),\n",
    "    'colsample_bytree': hp.choice('colsample_bytree', np.arange(0.3, 0.8, 0.1)),\n",
    "    'subsample':        hp.uniform('subsample', 0.8, 1),\n",
    "    'n_estimators':     100,\n",
    "}\n",
    "xgb_fit_params = {\n",
    "    'eval_metric': 'rmse',\n",
    "    'early_stopping_rounds': 10,\n",
    "    'verbose': False\n",
    "}\n",
    "xgb_para = dict()\n",
    "xgb_para['reg_params'] = xgb_reg_params\n",
    "xgb_para['fit_params'] = xgb_fit_params\n",
    "xgb_para['loss_func' ] = lambda y, pred: np.sqrt(mean_squared_error(y, pred))\n",
    "\n",
    "\n",
    "# LightGBM parameters\n",
    "lgb_reg_params = {\n",
    "    'learning_rate':    hp.choice('learning_rate',    np.arange(0.05, 0.31, 0.05)),\n",
    "    'max_depth':        hp.choice('max_depth',        np.arange(5, 16, 1, dtype=int)),\n",
    "    'min_child_weight': hp.choice('min_child_weight', np.arange(1, 8, 1, dtype=int)),\n",
    "    'colsample_bytree': hp.choice('colsample_bytree', np.arange(0.3, 0.8, 0.1)),\n",
    "    'subsample':        hp.uniform('subsample', 0.8, 1),\n",
    "    'n_estimators':     100,\n",
    "}\n",
    "lgb_fit_params = {\n",
    "    'eval_metric': 'l2',\n",
    "    'early_stopping_rounds': 10,\n",
    "    'verbose': False\n",
    "}\n",
    "lgb_para = dict()\n",
    "lgb_para['reg_params'] = lgb_reg_params\n",
    "lgb_para['fit_params'] = lgb_fit_params\n",
    "lgb_para['loss_func' ] = lambda y, pred: np.sqrt(mean_squared_error(y, pred))\n",
    "\n",
    "\n",
    "# CatBoost parameters\n",
    "ctb_reg_params = {\n",
    "    'learning_rate':     hp.choice('learning_rate',     np.arange(0.05, 0.31, 0.05)),\n",
    "    'max_depth':         hp.choice('max_depth',         np.arange(5, 16, 1, dtype=int)),\n",
    "    'colsample_bylevel': hp.choice('colsample_bylevel', np.arange(0.3, 0.8, 0.1)),\n",
    "    'n_estimators':      100,\n",
    "    'eval_metric':       'RMSE',\n",
    "}\n",
    "ctb_fit_params = {\n",
    "    'early_stopping_rounds': 10,\n",
    "    'verbose': False\n",
    "}\n",
    "ctb_para = dict()\n",
    "ctb_para['reg_params'] = ctb_reg_params\n",
    "ctb_para['fit_params'] = ctb_fit_params\n",
    "ctb_para['loss_func' ] = lambda y, pred: np.sqrt(mean_squared_error(y, pred))\n"
   ]
  },
  {
   "cell_type": "markdown",
   "id": "e5d49aa4-1e11-46b8-9f79-55483daaeea2",
   "metadata": {},
   "source": [
    "2. create a class HPOpt that is instantiated with training and testing data and provides the training functions."
   ]
  },
  {
   "cell_type": "code",
   "execution_count": 20,
   "id": "490b7578-984c-4c44-b8ac-d98209d4f530",
   "metadata": {},
   "outputs": [],
   "source": [
    "import lightgbm as lgb\n",
    "import xgboost as xgb\n",
    "import catboost as ctb\n",
    "from hyperopt import fmin, tpe, STATUS_OK, STATUS_FAIL, Trials\n",
    "\n",
    "\n",
    "class HPOpt(object):\n",
    "\n",
    "    def __init__(self, x_train, x_test, y_train, y_test):\n",
    "        self.x_train = x_train\n",
    "        self.x_test  = x_test\n",
    "        self.y_train = y_train\n",
    "        self.y_test  = y_test\n",
    "\n",
    "    def process(self, fn_name, space, trials, algo, max_evals):\n",
    "        fn = getattr(self, fn_name)\n",
    "        try:\n",
    "            result = fmin(fn=fn, space=space, algo=algo, max_evals=max_evals, trials=trials)\n",
    "        except Exception as e:\n",
    "            return {'status': STATUS_FAIL,\n",
    "                    'exception': str(e)}\n",
    "        return result, trials\n",
    "\n",
    "    def xgb_reg(self, para):\n",
    "        reg = xgb.XGBRegressor(**para['reg_params'])\n",
    "        return self.train_reg(reg, para)\n",
    "\n",
    "    def lgb_reg(self, para):\n",
    "        reg = lgb.LGBMRegressor(**para['reg_params'])\n",
    "        return self.train_reg(reg, para)\n",
    "\n",
    "    def ctb_reg(self, para):\n",
    "        reg = ctb.CatBoostRegressor(**para['reg_params'])\n",
    "        return self.train_reg(reg, para)\n",
    "\n",
    "    def train_reg(self, reg, para):\n",
    "        reg.fit(self.x_train, self.y_train,\n",
    "                eval_set=[(self.x_train, self.y_train), (self.x_test, self.y_test)],\n",
    "                **para['fit_params'])\n",
    "        pred = reg.predict(self.x_test)\n",
    "        loss = para['loss_func'](self.y_test, pred)\n",
    "        return {'loss': loss, 'status': STATUS_OK}"
   ]
  }
 ],
 "metadata": {
  "hide_input": false,
  "kernelspec": {
   "display_name": "Python 3 (ipykernel)",
   "language": "python",
   "name": "python3"
  },
  "language_info": {
   "codemirror_mode": {
    "name": "ipython",
    "version": 3
   },
   "file_extension": ".py",
   "mimetype": "text/x-python",
   "name": "python",
   "nbconvert_exporter": "python",
   "pygments_lexer": "ipython3",
   "version": "3.9.7"
  },
  "toc": {
   "base_numbering": 1,
   "nav_menu": {},
   "number_sections": true,
   "sideBar": true,
   "skip_h1_title": false,
   "title_cell": "Table of Contents",
   "title_sidebar": "Contents",
   "toc_cell": false,
   "toc_position": {},
   "toc_section_display": true,
   "toc_window_display": false
  }
 },
 "nbformat": 4,
 "nbformat_minor": 5
}
